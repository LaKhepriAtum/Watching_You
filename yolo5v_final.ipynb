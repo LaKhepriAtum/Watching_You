{
 "cells": [
  {
   "cell_type": "markdown",
   "source": [
    "#드라이버 연동"
   ],
   "metadata": {
    "id": "rpwNi305ZhZH",
    "pycharm": {
     "name": "#%% md\n"
    }
   }
  },
  {
   "cell_type": "code",
   "source": [
    "from google.colab import drive\n",
    "drive.mount('/content/drive')"
   ],
   "metadata": {
    "colab": {
     "base_uri": "https://localhost:8080/"
    },
    "id": "Wet-sIZFA06R",
    "outputId": "8f39a8bb-29fe-4281-e21e-4761b1c1b10c",
    "executionInfo": {
     "status": "ok",
     "timestamp": 1655802294646,
     "user_tz": -540,
     "elapsed": 22128,
     "user": {
      "displayName": "수찬",
      "userId": "00188858765518792207"
     }
    },
    "pycharm": {
     "name": "#%%\n"
    }
   },
   "execution_count": 1,
   "outputs": [
    {
     "output_type": "stream",
     "name": "stdout",
     "text": [
      "Mounted at /content/drive\n"
     ]
    }
   ]
  },
  {
   "cell_type": "markdown",
   "source": [
    "#yolo모델 클론"
   ],
   "metadata": {
    "id": "uyA5JvDIZoMW",
    "pycharm": {
     "name": "#%% md\n"
    }
   }
  },
  {
   "cell_type": "code",
   "execution_count": null,
   "metadata": {
    "id": "-_ifPcdXQhZ3",
    "colab": {
     "base_uri": "https://localhost:8080/"
    },
    "outputId": "a723f751-4889-480e-bcd9-3f1057daccd5",
    "pycharm": {
     "name": "#%%\n"
    }
   },
   "outputs": [
    {
     "output_type": "stream",
     "name": "stdout",
     "text": [
      "/content\n",
      "Cloning into 'yolov5'...\n",
      "remote: Enumerating objects: 12137, done.\u001B[K\n",
      "remote: Counting objects: 100% (57/57), done.\u001B[K\n",
      "remote: Compressing objects: 100% (40/40), done.\u001B[K\n",
      "remote: Total 12137 (delta 33), reused 32 (delta 17), pack-reused 12080\u001B[K\n",
      "Receiving objects: 100% (12137/12137), 11.86 MiB | 29.84 MiB/s, done.\n",
      "Resolving deltas: 100% (8417/8417), done.\n"
     ]
    }
   ],
   "source": [
    "%cd /content\n",
    "!git clone https://github.com/ultralytics/yolov5.git\n",
    "\n",
    "# 욜로5 만든사람 깃허브 클론해서 다운받음"
   ]
  },
  {
   "cell_type": "code",
   "execution_count": null,
   "metadata": {
    "id": "5siiW9NLRISe",
    "colab": {
     "base_uri": "https://localhost:8080/"
    },
    "outputId": "c925bf9c-667f-4fd4-ef8f-c3ba668490c7",
    "pycharm": {
     "name": "#%%\n"
    }
   },
   "outputs": [
    {
     "output_type": "stream",
     "name": "stdout",
     "text": [
      "/content/yolov5\n",
      "Looking in indexes: https://pypi.org/simple, https://us-python.pkg.dev/colab-wheels/public/simple/\n",
      "Requirement already satisfied: matplotlib>=3.2.2 in /usr/local/lib/python3.7/dist-packages (from -r requirements.txt (line 5)) (3.2.2)\n",
      "Requirement already satisfied: numpy>=1.18.5 in /usr/local/lib/python3.7/dist-packages (from -r requirements.txt (line 6)) (1.21.6)\n",
      "Requirement already satisfied: opencv-python>=4.1.1 in /usr/local/lib/python3.7/dist-packages (from -r requirements.txt (line 7)) (4.1.2.30)\n",
      "Requirement already satisfied: Pillow>=7.1.2 in /usr/local/lib/python3.7/dist-packages (from -r requirements.txt (line 8)) (7.1.2)\n",
      "Collecting PyYAML>=5.3.1\n",
      "  Downloading PyYAML-6.0-cp37-cp37m-manylinux_2_5_x86_64.manylinux1_x86_64.manylinux_2_12_x86_64.manylinux2010_x86_64.whl (596 kB)\n",
      "\u001B[K     |████████████████████████████████| 596 kB 6.0 MB/s \n",
      "\u001B[?25hRequirement already satisfied: requests>=2.23.0 in /usr/local/lib/python3.7/dist-packages (from -r requirements.txt (line 10)) (2.23.0)\n",
      "Requirement already satisfied: scipy>=1.4.1 in /usr/local/lib/python3.7/dist-packages (from -r requirements.txt (line 11)) (1.4.1)\n",
      "Requirement already satisfied: torch>=1.7.0 in /usr/local/lib/python3.7/dist-packages (from -r requirements.txt (line 12)) (1.11.0+cu113)\n",
      "Requirement already satisfied: torchvision>=0.8.1 in /usr/local/lib/python3.7/dist-packages (from -r requirements.txt (line 13)) (0.12.0+cu113)\n",
      "Requirement already satisfied: tqdm>=4.41.0 in /usr/local/lib/python3.7/dist-packages (from -r requirements.txt (line 14)) (4.64.0)\n",
      "Requirement already satisfied: tensorboard>=2.4.1 in /usr/local/lib/python3.7/dist-packages (from -r requirements.txt (line 17)) (2.8.0)\n",
      "Requirement already satisfied: pandas>=1.1.4 in /usr/local/lib/python3.7/dist-packages (from -r requirements.txt (line 21)) (1.3.5)\n",
      "Requirement already satisfied: seaborn>=0.11.0 in /usr/local/lib/python3.7/dist-packages (from -r requirements.txt (line 22)) (0.11.2)\n",
      "Requirement already satisfied: ipython in /usr/local/lib/python3.7/dist-packages (from -r requirements.txt (line 34)) (5.5.0)\n",
      "Requirement already satisfied: psutil in /usr/local/lib/python3.7/dist-packages (from -r requirements.txt (line 35)) (5.4.8)\n",
      "Collecting thop\n",
      "  Downloading thop-0.0.31.post2005241907-py3-none-any.whl (8.7 kB)\n",
      "Requirement already satisfied: kiwisolver>=1.0.1 in /usr/local/lib/python3.7/dist-packages (from matplotlib>=3.2.2->-r requirements.txt (line 5)) (1.4.2)\n",
      "Requirement already satisfied: python-dateutil>=2.1 in /usr/local/lib/python3.7/dist-packages (from matplotlib>=3.2.2->-r requirements.txt (line 5)) (2.8.2)\n",
      "Requirement already satisfied: cycler>=0.10 in /usr/local/lib/python3.7/dist-packages (from matplotlib>=3.2.2->-r requirements.txt (line 5)) (0.11.0)\n",
      "Requirement already satisfied: pyparsing!=2.0.4,!=2.1.2,!=2.1.6,>=2.0.1 in /usr/local/lib/python3.7/dist-packages (from matplotlib>=3.2.2->-r requirements.txt (line 5)) (3.0.9)\n",
      "Requirement already satisfied: chardet<4,>=3.0.2 in /usr/local/lib/python3.7/dist-packages (from requests>=2.23.0->-r requirements.txt (line 10)) (3.0.4)\n",
      "Requirement already satisfied: urllib3!=1.25.0,!=1.25.1,<1.26,>=1.21.1 in /usr/local/lib/python3.7/dist-packages (from requests>=2.23.0->-r requirements.txt (line 10)) (1.24.3)\n",
      "Requirement already satisfied: certifi>=2017.4.17 in /usr/local/lib/python3.7/dist-packages (from requests>=2.23.0->-r requirements.txt (line 10)) (2022.5.18.1)\n",
      "Requirement already satisfied: idna<3,>=2.5 in /usr/local/lib/python3.7/dist-packages (from requests>=2.23.0->-r requirements.txt (line 10)) (2.10)\n",
      "Requirement already satisfied: typing-extensions in /usr/local/lib/python3.7/dist-packages (from torch>=1.7.0->-r requirements.txt (line 12)) (4.2.0)\n",
      "Requirement already satisfied: markdown>=2.6.8 in /usr/local/lib/python3.7/dist-packages (from tensorboard>=2.4.1->-r requirements.txt (line 17)) (3.3.7)\n",
      "Requirement already satisfied: protobuf>=3.6.0 in /usr/local/lib/python3.7/dist-packages (from tensorboard>=2.4.1->-r requirements.txt (line 17)) (3.17.3)\n",
      "Requirement already satisfied: tensorboard-data-server<0.7.0,>=0.6.0 in /usr/local/lib/python3.7/dist-packages (from tensorboard>=2.4.1->-r requirements.txt (line 17)) (0.6.1)\n",
      "Requirement already satisfied: wheel>=0.26 in /usr/local/lib/python3.7/dist-packages (from tensorboard>=2.4.1->-r requirements.txt (line 17)) (0.37.1)\n",
      "Requirement already satisfied: google-auth<3,>=1.6.3 in /usr/local/lib/python3.7/dist-packages (from tensorboard>=2.4.1->-r requirements.txt (line 17)) (1.35.0)\n",
      "Requirement already satisfied: absl-py>=0.4 in /usr/local/lib/python3.7/dist-packages (from tensorboard>=2.4.1->-r requirements.txt (line 17)) (1.0.0)\n",
      "Requirement already satisfied: setuptools>=41.0.0 in /usr/local/lib/python3.7/dist-packages (from tensorboard>=2.4.1->-r requirements.txt (line 17)) (57.4.0)\n",
      "Requirement already satisfied: werkzeug>=0.11.15 in /usr/local/lib/python3.7/dist-packages (from tensorboard>=2.4.1->-r requirements.txt (line 17)) (1.0.1)\n",
      "Requirement already satisfied: google-auth-oauthlib<0.5,>=0.4.1 in /usr/local/lib/python3.7/dist-packages (from tensorboard>=2.4.1->-r requirements.txt (line 17)) (0.4.6)\n",
      "Requirement already satisfied: grpcio>=1.24.3 in /usr/local/lib/python3.7/dist-packages (from tensorboard>=2.4.1->-r requirements.txt (line 17)) (1.46.1)\n",
      "Requirement already satisfied: tensorboard-plugin-wit>=1.6.0 in /usr/local/lib/python3.7/dist-packages (from tensorboard>=2.4.1->-r requirements.txt (line 17)) (1.8.1)\n",
      "Requirement already satisfied: pytz>=2017.3 in /usr/local/lib/python3.7/dist-packages (from pandas>=1.1.4->-r requirements.txt (line 21)) (2022.1)\n",
      "Requirement already satisfied: six in /usr/local/lib/python3.7/dist-packages (from absl-py>=0.4->tensorboard>=2.4.1->-r requirements.txt (line 17)) (1.15.0)\n",
      "Requirement already satisfied: cachetools<5.0,>=2.0.0 in /usr/local/lib/python3.7/dist-packages (from google-auth<3,>=1.6.3->tensorboard>=2.4.1->-r requirements.txt (line 17)) (4.2.4)\n",
      "Requirement already satisfied: pyasn1-modules>=0.2.1 in /usr/local/lib/python3.7/dist-packages (from google-auth<3,>=1.6.3->tensorboard>=2.4.1->-r requirements.txt (line 17)) (0.2.8)\n",
      "Requirement already satisfied: rsa<5,>=3.1.4 in /usr/local/lib/python3.7/dist-packages (from google-auth<3,>=1.6.3->tensorboard>=2.4.1->-r requirements.txt (line 17)) (4.8)\n",
      "Requirement already satisfied: requests-oauthlib>=0.7.0 in /usr/local/lib/python3.7/dist-packages (from google-auth-oauthlib<0.5,>=0.4.1->tensorboard>=2.4.1->-r requirements.txt (line 17)) (1.3.1)\n",
      "Requirement already satisfied: importlib-metadata>=4.4 in /usr/local/lib/python3.7/dist-packages (from markdown>=2.6.8->tensorboard>=2.4.1->-r requirements.txt (line 17)) (4.11.3)\n",
      "Requirement already satisfied: zipp>=0.5 in /usr/local/lib/python3.7/dist-packages (from importlib-metadata>=4.4->markdown>=2.6.8->tensorboard>=2.4.1->-r requirements.txt (line 17)) (3.8.0)\n",
      "Requirement already satisfied: pyasn1<0.5.0,>=0.4.6 in /usr/local/lib/python3.7/dist-packages (from pyasn1-modules>=0.2.1->google-auth<3,>=1.6.3->tensorboard>=2.4.1->-r requirements.txt (line 17)) (0.4.8)\n",
      "Requirement already satisfied: oauthlib>=3.0.0 in /usr/local/lib/python3.7/dist-packages (from requests-oauthlib>=0.7.0->google-auth-oauthlib<0.5,>=0.4.1->tensorboard>=2.4.1->-r requirements.txt (line 17)) (3.2.0)\n",
      "Requirement already satisfied: decorator in /usr/local/lib/python3.7/dist-packages (from ipython->-r requirements.txt (line 34)) (4.4.2)\n",
      "Requirement already satisfied: prompt-toolkit<2.0.0,>=1.0.4 in /usr/local/lib/python3.7/dist-packages (from ipython->-r requirements.txt (line 34)) (1.0.18)\n",
      "Requirement already satisfied: pickleshare in /usr/local/lib/python3.7/dist-packages (from ipython->-r requirements.txt (line 34)) (0.7.5)\n",
      "Requirement already satisfied: simplegeneric>0.8 in /usr/local/lib/python3.7/dist-packages (from ipython->-r requirements.txt (line 34)) (0.8.1)\n",
      "Requirement already satisfied: traitlets>=4.2 in /usr/local/lib/python3.7/dist-packages (from ipython->-r requirements.txt (line 34)) (5.1.1)\n",
      "Requirement already satisfied: pexpect in /usr/local/lib/python3.7/dist-packages (from ipython->-r requirements.txt (line 34)) (4.8.0)\n",
      "Requirement already satisfied: pygments in /usr/local/lib/python3.7/dist-packages (from ipython->-r requirements.txt (line 34)) (2.6.1)\n",
      "Requirement already satisfied: wcwidth in /usr/local/lib/python3.7/dist-packages (from prompt-toolkit<2.0.0,>=1.0.4->ipython->-r requirements.txt (line 34)) (0.2.5)\n",
      "Requirement already satisfied: ptyprocess>=0.5 in /usr/local/lib/python3.7/dist-packages (from pexpect->ipython->-r requirements.txt (line 34)) (0.7.0)\n",
      "Installing collected packages: thop, PyYAML\n",
      "  Attempting uninstall: PyYAML\n",
      "    Found existing installation: PyYAML 3.13\n",
      "    Uninstalling PyYAML-3.13:\n",
      "      Successfully uninstalled PyYAML-3.13\n",
      "Successfully installed PyYAML-6.0 thop-0.0.31.post2005241907\n"
     ]
    }
   ],
   "source": [
    "% cd /content/yolov5/\n",
    "!pip install -r requirements.txt\n",
    "# 모듈 설치 해야함"
   ]
  },
  {
   "cell_type": "markdown",
   "source": [
    "#data.yaml확인"
   ],
   "metadata": {
    "id": "Yl1n70pqZwA1",
    "pycharm": {
     "name": "#%% md\n"
    }
   }
  },
  {
   "cell_type": "code",
   "execution_count": null,
   "metadata": {
    "colab": {
     "base_uri": "https://localhost:8080/"
    },
    "id": "qj9HkyYpRaSV",
    "outputId": "dec61394-3b66-41d5-c3b1-77ce38e7bfae",
    "pycharm": {
     "name": "#%%\n"
    }
   },
   "outputs": [
    {
     "output_type": "stream",
     "name": "stdout",
     "text": [
      "train: /content/drive/MyDrive/Watching_You_PJ/Project_yolo/01_DataSet/train_Data/2022_05_11/train.txt\n",
      "\n",
      "val: /content/drive/MyDrive/Watching_You_PJ/Project_yolo/01_DataSet/train_Data/2022_05_11/val.txt\n",
      "\n",
      "nc: 37\n",
      "names: ['Handaxe',\n",
      " 'Comb-pattern Pottery',\n",
      " 'Ritual Bronze Object with Farming Scenes',\n",
      " 'Bronze Dagger and Lacquered Scabbard',\n",
      " 'Bronze Bowl with Inscription of “Hou(壺杅)”',\n",
      " 'Tile with Landscape Design',\n",
      " 'Helmet and Plate Armor',\n",
      " 'Gold Crown and Gold Belt',\n",
      " 'Iron Buddha',\n",
      " 'Ten-story Stone Pagoda from Gyeongcheonsa Temple',\n",
      " 'Ten-story Stone Pagoda from Gyeongcheonsa Temple',\n",
      " 'Ten-story Stone Pagoda from Gyeongcheonsa Temple',\n",
      " 'buddhist_bell',\n",
      " 'Joseon Metal Type for Hangeul',\n",
      " 'Daedongnyeojido: Territorial Map of Korea',\n",
      " 'Royal Seal for Imperial Edicts',\n",
      " 'Stele for the Buddhist Monk Nanggongdaesa at Taejasa Temple',\n",
      " 'A Dancing Boy from Album of Genre Painting',\n",
      " 'Buddhist Hanging Scroll',\n",
      " 'Lacquered Clothing Box Inlaid with Mother-of-pearl',\n",
      " 'Buncheong Ware Bottle with Lotus and Scrolls Design',\n",
      " 'Bronze Helmet',\n",
      " 'Buddhist Boy',\n",
      " 'White Porcelain Bottle with Orchid Design',\n",
      " 'Maitreya and Amitabha from Gamsansa Temple Site, Gyeongju',\n",
      " 'Gilt-bronze Seated Avalokitesvara Bodhisattva',\n",
      " 'Buddha from the Pagoda at Guhwang-dong Temple Site, Gyeongju',\n",
      " 'Kundika with Landscape Design',\n",
      " 'Incense Burner, Celadon with Openwork Cloisonne Design',\n",
      " 'Dragon-shaped Ewer, Celadon',\n",
      " 'Buncheong Ware Jar with Cloud and Dragon Design',\n",
      " 'Blue-and-white Porcelain Jar with Plum, Bird and Bamboo Design',\n",
      " 'White Porcelain Jar',\n",
      " 'lady',\n",
      " 'bodhisattva',\n",
      " 'Blue-and-white Ewer with Fruit and Floral Design',\n",
      " 'Illustrated Album of The Tale of Genji']"
     ]
    }
   ],
   "source": [
    "%cat /content/drive/MyDrive/Watching_You_PJ/Project_yolo/01_DataSet/3_train_Data/2022_05_11/data.yaml\n",
    "#yaml 확인하는 코드"
   ]
  },
  {
   "cell_type": "code",
   "execution_count": null,
   "metadata": {
    "colab": {
     "base_uri": "https://localhost:8080/"
    },
    "id": "EUgGUkYVRmC9",
    "outputId": "a8dd0119-e04e-4533-9560-1633ce7b68fb",
    "pycharm": {
     "name": "#%%\n"
    }
   },
   "outputs": [
    {
     "output_type": "stream",
     "name": "stdout",
     "text": [
      "/\n",
      "6293\n"
     ]
    }
   ],
   "source": [
    "%cd /\n",
    "from glob import glob\n",
    "\n",
    "img_list = glob('/content/drive/MyDrive/Watching_You_PJ/Project_yolo/01_DataSet/3_train_Data/2022_05_11/train/images/*.jpg')\n",
    "print(len(img_list))"
   ]
  },
  {
   "cell_type": "code",
   "execution_count": null,
   "metadata": {
    "colab": {
     "base_uri": "https://localhost:8080/"
    },
    "id": "XTWumpbMSEc3",
    "outputId": "26c6184a-68dc-46d6-f53f-e3780b21448e",
    "pycharm": {
     "name": "#%%\n"
    }
   },
   "outputs": [
    {
     "output_type": "stream",
     "name": "stdout",
     "text": [
      "5034 1259\n"
     ]
    }
   ],
   "source": [
    "from sklearn.model_selection import train_test_split\n",
    "\n",
    "train_img_list, val_img_list = train_test_split(img_list, test_size = 0.2, random_state = 759)\n",
    "print(len(train_img_list), len(val_img_list))\n",
    "\n",
    "#이미지파일이 1개이기때문에 train과 val로 나누는 코드"
   ]
  },
  {
   "cell_type": "code",
   "execution_count": null,
   "metadata": {
    "id": "AylnVdUMSPNs",
    "pycharm": {
     "name": "#%%\n"
    }
   },
   "outputs": [],
   "source": [
    "with open('/content/drive/MyDrive/Watching_You_PJ/Project_yolo/01_DataSet/3_train_Data/2022_05_11/train.txt', 'w') as f:\n",
    "  f.write('\\n'.join(train_img_list)+ '\\n')\n",
    "\n",
    "with open('/content/drive/MyDrive/Watching_You_PJ/Project_yolo/01_DataSet/3_train_Data/2022_05_11/val.txt','w') as f:\n",
    "  f.write('\\n'.join(val_img_list) + '\\n')\n",
    "\n",
    "# 이미지 경로를 txt로 저장해줌"
   ]
  },
  {
   "cell_type": "code",
   "source": [
    "# !nvidia-smi"
   ],
   "metadata": {
    "id": "UgYGkwuBG9UG",
    "pycharm": {
     "name": "#%%\n"
    }
   },
   "execution_count": null,
   "outputs": []
  },
  {
   "cell_type": "code",
   "execution_count": null,
   "metadata": {
    "colab": {
     "base_uri": "https://localhost:8080/"
    },
    "id": "3gF871UVUYsk",
    "outputId": "0be68a6c-f40f-4aa5-a7cd-fb9a9858d2a4",
    "pycharm": {
     "name": "#%%\n"
    }
   },
   "outputs": [
    {
     "output_type": "stream",
     "name": "stdout",
     "text": [
      "/content/yolov5\n",
      "\u001B[34m\u001B[1mtrain: \u001B[0mweights=yolov5s.pt, cfg=./models/yolov5s.yaml, data=/content/drive/MyDrive/Watching_You_PJ/Project_yolo/01_DataSet/train_Data/2022_05_11/data.yaml, hyp=data/hyps/hyp.scratch-low.yaml, epochs=100, batch_size=50, imgsz=600, rect=False, resume=False, nosave=False, noval=False, noautoanchor=False, noplots=False, evolve=None, bucket=, cache=None, image_weights=False, device=, multi_scale=False, single_cls=False, optimizer=SGD, sync_bn=False, workers=8, project=runs/train, name=yolov5s_result, exist_ok=False, quad=False, cos_lr=False, label_smoothing=0.0, patience=100, freeze=[0], save_period=-1, local_rank=-1, entity=None, upload_dataset=False, bbox_interval=-1, artifact_alias=latest\n",
      "\u001B[34m\u001B[1mgithub: \u001B[0mup to date with https://github.com/ultralytics/yolov5 ✅\n",
      "YOLOv5 🚀 v6.1-227-ga6e99e4 Python-3.7.13 torch-1.11.0+cu113 CUDA:0 (Tesla T4, 15110MiB)\n",
      "\n",
      "\u001B[34m\u001B[1mhyperparameters: \u001B[0mlr0=0.01, lrf=0.01, momentum=0.937, weight_decay=0.0005, warmup_epochs=3.0, warmup_momentum=0.8, warmup_bias_lr=0.1, box=0.05, cls=0.5, cls_pw=1.0, obj=1.0, obj_pw=1.0, iou_t=0.2, anchor_t=4.0, fl_gamma=0.0, hsv_h=0.015, hsv_s=0.7, hsv_v=0.4, degrees=0.0, translate=0.1, scale=0.5, shear=0.0, perspective=0.0, flipud=0.0, fliplr=0.5, mosaic=1.0, mixup=0.0, copy_paste=0.0\n",
      "\u001B[34m\u001B[1mWeights & Biases: \u001B[0mrun 'pip install wandb' to automatically track and visualize YOLOv5 🚀 runs (RECOMMENDED)\n",
      "\u001B[34m\u001B[1mTensorBoard: \u001B[0mStart with 'tensorboard --logdir runs/train', view at http://localhost:6006/\n",
      "Downloading https://ultralytics.com/assets/Arial.Unicode.ttf to /root/.config/Ultralytics/Arial.Unicode.ttf...\n",
      "100% 22.2M/22.2M [00:00<00:00, 74.9MB/s]\n",
      "Downloading https://github.com/ultralytics/yolov5/releases/download/v6.1/yolov5s.pt to yolov5s.pt...\n",
      "100% 14.1M/14.1M [00:00<00:00, 144MB/s]\n",
      "\n",
      "Overriding model.yaml nc=80 with nc=37\n",
      "\n",
      "                 from  n    params  module                                  arguments                     \n",
      "  0                -1  1      3520  models.common.Conv                      [3, 32, 6, 2, 2]              \n",
      "  1                -1  1     18560  models.common.Conv                      [32, 64, 3, 2]                \n",
      "  2                -1  1     18816  models.common.C3                        [64, 64, 1]                   \n",
      "  3                -1  1     73984  models.common.Conv                      [64, 128, 3, 2]               \n",
      "  4                -1  2    115712  models.common.C3                        [128, 128, 2]                 \n",
      "  5                -1  1    295424  models.common.Conv                      [128, 256, 3, 2]              \n",
      "  6                -1  3    625152  models.common.C3                        [256, 256, 3]                 \n",
      "  7                -1  1   1180672  models.common.Conv                      [256, 512, 3, 2]              \n",
      "  8                -1  1   1182720  models.common.C3                        [512, 512, 1]                 \n",
      "  9                -1  1    656896  models.common.SPPF                      [512, 512, 5]                 \n",
      " 10                -1  1    131584  models.common.Conv                      [512, 256, 1, 1]              \n",
      " 11                -1  1         0  torch.nn.modules.upsampling.Upsample    [None, 2, 'nearest']          \n",
      " 12           [-1, 6]  1         0  models.common.Concat                    [1]                           \n",
      " 13                -1  1    361984  models.common.C3                        [512, 256, 1, False]          \n",
      " 14                -1  1     33024  models.common.Conv                      [256, 128, 1, 1]              \n",
      " 15                -1  1         0  torch.nn.modules.upsampling.Upsample    [None, 2, 'nearest']          \n",
      " 16           [-1, 4]  1         0  models.common.Concat                    [1]                           \n",
      " 17                -1  1     90880  models.common.C3                        [256, 128, 1, False]          \n",
      " 18                -1  1    147712  models.common.Conv                      [128, 128, 3, 2]              \n",
      " 19          [-1, 14]  1         0  models.common.Concat                    [1]                           \n",
      " 20                -1  1    296448  models.common.C3                        [256, 256, 1, False]          \n",
      " 21                -1  1    590336  models.common.Conv                      [256, 256, 3, 2]              \n",
      " 22          [-1, 10]  1         0  models.common.Concat                    [1]                           \n",
      " 23                -1  1   1182720  models.common.C3                        [512, 512, 1, False]          \n",
      " 24      [17, 20, 23]  1    113274  models.yolo.Detect                      [37, [[10, 13, 16, 30, 33, 23], [30, 61, 62, 45, 59, 119], [116, 90, 156, 198, 373, 326]], [128, 256, 512]]\n",
      "YOLOv5s summary: 270 layers, 7119418 parameters, 7119418 gradients, 16.2 GFLOPs\n",
      "\n",
      "Transferred 342/349 items from yolov5s.pt\n",
      "\u001B[34m\u001B[1mAMP: \u001B[0mchecks passed ✅\n",
      "WARNING: --img-size 600 must be multiple of max stride 32, updating to 608\n",
      "Scaled weight_decay = 0.000390625\n",
      "\u001B[34m\u001B[1moptimizer:\u001B[0m SGD with parameter groups 57 weight (no decay), 60 weight, 60 bias\n",
      "\u001B[34m\u001B[1malbumentations: \u001B[0mversion 1.0.3 required by YOLOv5, but version 0.1.12 is currently installed\n",
      "\u001B[34m\u001B[1mtrain: \u001B[0mScanning '/content/drive/MyDrive/Watching_You_PJ/Project_yolo/01_DataSet/train_Data/2022_05_11/train' images and labels...5032 found, 2 missing, 13 empty, 0 corrupt: 100% 5034/5034 [25:21<00:00,  3.31it/s]\n",
      "\u001B[34m\u001B[1mtrain: \u001B[0mNew cache created: /content/drive/MyDrive/Watching_You_PJ/Project_yolo/01_DataSet/train_Data/2022_05_11/train.cache\n",
      "\u001B[34m\u001B[1mval: \u001B[0mScanning '/content/drive/MyDrive/Watching_You_PJ/Project_yolo/01_DataSet/train_Data/2022_05_11/val' images and labels...1259 found, 0 missing, 3 empty, 0 corrupt: 100% 1259/1259 [05:25<00:00,  3.87it/s]\n",
      "\u001B[34m\u001B[1mval: \u001B[0mNew cache created: /content/drive/MyDrive/Watching_You_PJ/Project_yolo/01_DataSet/train_Data/2022_05_11/val.cache\n",
      "Plotting labels to runs/train/yolov5s_result/labels.jpg... \n",
      "\n",
      "\u001B[34m\u001B[1mAutoAnchor: \u001B[0m4.42 anchors/target, 0.999 Best Possible Recall (BPR). Current anchors are a good fit to dataset ✅\n",
      "Image sizes 608 train, 608 val\n",
      "Using 2 dataloader workers\n",
      "Logging results to \u001B[1mruns/train/yolov5s_result\u001B[0m\n",
      "Starting training for 100 epochs...\n",
      "\n",
      "     Epoch   gpu_mem       box       obj       cls    labels  img_size\n",
      "      0/99     9.88G    0.1157   0.03091   0.09726       105       608:   1% 1/101 [00:06<10:06,  6.06s/it]Downloading https://ultralytics.com/assets/Arial.ttf to /root/.config/Ultralytics/Arial.ttf...\n",
      "      0/99     9.94G   0.06392   0.02522   0.08388        67       608: 100% 101/101 [05:36<00:00,  3.34s/it]\n",
      "               Class     Images     Labels          P          R     mAP@.5 mAP@.5:.95: 100% 13/13 [00:33<00:00,  2.56s/it]\n",
      "                 all       1259       1256       0.57      0.265      0.302      0.158\n",
      "\n",
      "     Epoch   gpu_mem       box       obj       cls    labels  img_size\n",
      "      1/99     12.2G    0.0479   0.01432   0.05408        74       608: 100% 101/101 [05:37<00:00,  3.34s/it]\n",
      "               Class     Images     Labels          P          R     mAP@.5 mAP@.5:.95: 100% 13/13 [00:31<00:00,  2.40s/it]\n",
      "                 all       1259       1256      0.671       0.85      0.837      0.457\n",
      "\n",
      "     Epoch   gpu_mem       box       obj       cls    labels  img_size\n",
      "      2/99     12.2G   0.04935    0.0121   0.02296        69       608: 100% 101/101 [05:36<00:00,  3.33s/it]\n",
      "               Class     Images     Labels          P          R     mAP@.5 mAP@.5:.95: 100% 13/13 [00:30<00:00,  2.38s/it]\n",
      "                 all       1259       1256       0.64      0.806      0.788      0.411\n",
      "\n",
      "     Epoch   gpu_mem       box       obj       cls    labels  img_size\n",
      "      3/99     12.2G   0.04383     0.012   0.01342        72       608: 100% 101/101 [05:37<00:00,  3.34s/it]\n",
      "               Class     Images     Labels          P          R     mAP@.5 mAP@.5:.95: 100% 13/13 [00:31<00:00,  2.40s/it]\n",
      "                 all       1259       1256      0.778      0.846      0.877      0.505\n",
      "\n",
      "     Epoch   gpu_mem       box       obj       cls    labels  img_size\n",
      "      4/99     12.2G   0.03911   0.01177   0.01055        75       608: 100% 101/101 [05:39<00:00,  3.36s/it]\n",
      "               Class     Images     Labels          P          R     mAP@.5 mAP@.5:.95: 100% 13/13 [00:30<00:00,  2.32s/it]\n",
      "                 all       1259       1256      0.816       0.92      0.914      0.561\n",
      "\n",
      "     Epoch   gpu_mem       box       obj       cls    labels  img_size\n",
      "      5/99     12.2G   0.03627    0.0111  0.007845        60       608: 100% 101/101 [05:37<00:00,  3.34s/it]\n",
      "               Class     Images     Labels          P          R     mAP@.5 mAP@.5:.95: 100% 13/13 [00:30<00:00,  2.37s/it]\n",
      "                 all       1259       1256      0.888      0.991      0.967      0.594\n",
      "\n",
      "     Epoch   gpu_mem       box       obj       cls    labels  img_size\n",
      "      6/99     12.2G   0.03465   0.01095  0.007205        91       608: 100% 101/101 [05:38<00:00,  3.35s/it]\n",
      "               Class     Images     Labels          P          R     mAP@.5 mAP@.5:.95: 100% 13/13 [00:30<00:00,  2.37s/it]\n",
      "                 all       1259       1256      0.912      0.962      0.959      0.614\n",
      "\n",
      "     Epoch   gpu_mem       box       obj       cls    labels  img_size\n",
      "      7/99     12.2G   0.03333   0.01086  0.006558        79       608: 100% 101/101 [05:37<00:00,  3.34s/it]\n",
      "               Class     Images     Labels          P          R     mAP@.5 mAP@.5:.95: 100% 13/13 [00:31<00:00,  2.43s/it]\n",
      "                 all       1259       1256      0.935      0.982      0.971      0.639\n",
      "\n",
      "     Epoch   gpu_mem       box       obj       cls    labels  img_size\n",
      "      8/99     12.2G   0.03245   0.01075  0.005668        80       608: 100% 101/101 [05:35<00:00,  3.32s/it]\n",
      "               Class     Images     Labels          P          R     mAP@.5 mAP@.5:.95: 100% 13/13 [00:31<00:00,  2.41s/it]\n",
      "                 all       1259       1256      0.949      0.998      0.971       0.65\n",
      "\n",
      "     Epoch   gpu_mem       box       obj       cls    labels  img_size\n",
      "      9/99     12.2G   0.03149   0.01037  0.005398        68       608: 100% 101/101 [05:37<00:00,  3.34s/it]\n",
      "               Class     Images     Labels          P          R     mAP@.5 mAP@.5:.95: 100% 13/13 [00:31<00:00,  2.41s/it]\n",
      "                 all       1259       1256      0.937      0.992      0.971      0.631\n",
      "\n",
      "     Epoch   gpu_mem       box       obj       cls    labels  img_size\n",
      "     10/99     12.2G   0.03087    0.0102  0.005078        87       608: 100% 101/101 [05:37<00:00,  3.34s/it]\n",
      "               Class     Images     Labels          P          R     mAP@.5 mAP@.5:.95: 100% 13/13 [00:31<00:00,  2.42s/it]\n",
      "                 all       1259       1256      0.948      0.997      0.971      0.666\n",
      "\n",
      "     Epoch   gpu_mem       box       obj       cls    labels  img_size\n",
      "     11/99     12.2G   0.03059   0.01027  0.004932        84       608: 100% 101/101 [05:38<00:00,  3.35s/it]\n",
      "               Class     Images     Labels          P          R     mAP@.5 mAP@.5:.95: 100% 13/13 [00:31<00:00,  2.42s/it]\n",
      "                 all       1259       1256       0.93          1      0.972      0.657\n",
      "\n",
      "     Epoch   gpu_mem       box       obj       cls    labels  img_size\n",
      "     12/99     12.2G   0.02939   0.01019  0.004327        74       608: 100% 101/101 [05:39<00:00,  3.36s/it]\n",
      "               Class     Images     Labels          P          R     mAP@.5 mAP@.5:.95: 100% 13/13 [00:30<00:00,  2.33s/it]\n",
      "                 all       1259       1256      0.951      0.996      0.972      0.645\n",
      "\n",
      "     Epoch   gpu_mem       box       obj       cls    labels  img_size\n",
      "     13/99     12.2G   0.02926   0.01002  0.004209        80       608: 100% 101/101 [05:40<00:00,  3.37s/it]\n",
      "               Class     Images     Labels          P          R     mAP@.5 mAP@.5:.95: 100% 13/13 [00:30<00:00,  2.33s/it]\n",
      "                 all       1259       1256      0.948      0.999      0.973      0.686\n",
      "\n",
      "     Epoch   gpu_mem       box       obj       cls    labels  img_size\n",
      "     14/99     12.2G   0.02874  0.009784  0.003855        67       608: 100% 101/101 [05:39<00:00,  3.36s/it]\n",
      "               Class     Images     Labels          P          R     mAP@.5 mAP@.5:.95: 100% 13/13 [00:30<00:00,  2.36s/it]\n",
      "                 all       1259       1256      0.948      0.999      0.972      0.678\n",
      "\n",
      "     Epoch   gpu_mem       box       obj       cls    labels  img_size\n",
      "     15/99     12.2G   0.02844  0.009869  0.004028        73       608: 100% 101/101 [05:38<00:00,  3.35s/it]\n",
      "               Class     Images     Labels          P          R     mAP@.5 mAP@.5:.95: 100% 13/13 [00:31<00:00,  2.41s/it]\n",
      "                 all       1259       1256       0.94      0.999      0.968      0.686\n",
      "\n",
      "     Epoch   gpu_mem       box       obj       cls    labels  img_size\n",
      "     16/99     12.2G   0.02804  0.009806  0.003698        76       608: 100% 101/101 [05:36<00:00,  3.33s/it]\n",
      "               Class     Images     Labels          P          R     mAP@.5 mAP@.5:.95: 100% 13/13 [00:31<00:00,  2.45s/it]\n",
      "                 all       1259       1254      0.927      0.966      0.961      0.652\n",
      "\n",
      "     Epoch   gpu_mem       box       obj       cls    labels  img_size\n",
      "     17/99     12.2G   0.02782   0.00974  0.003645        73       608: 100% 101/101 [05:39<00:00,  3.36s/it]\n",
      "               Class     Images     Labels          P          R     mAP@.5 mAP@.5:.95: 100% 13/13 [00:31<00:00,  2.44s/it]\n",
      "                 all       1259       1256      0.948          1       0.97      0.683\n",
      "\n",
      "     Epoch   gpu_mem       box       obj       cls    labels  img_size\n",
      "     18/99     12.2G   0.02754  0.009679  0.003669        80       608: 100% 101/101 [05:40<00:00,  3.37s/it]\n",
      "               Class     Images     Labels          P          R     mAP@.5 mAP@.5:.95: 100% 13/13 [00:31<00:00,  2.39s/it]\n",
      "                 all       1259       1256      0.952      0.997      0.972      0.692\n",
      "\n",
      "     Epoch   gpu_mem       box       obj       cls    labels  img_size\n",
      "     19/99     12.2G   0.02721  0.009593   0.00357        76       608: 100% 101/101 [05:38<00:00,  3.35s/it]\n",
      "               Class     Images     Labels          P          R     mAP@.5 mAP@.5:.95: 100% 13/13 [00:30<00:00,  2.38s/it]\n",
      "                 all       1259       1256      0.955      0.999      0.974      0.695\n",
      "\n",
      "     Epoch   gpu_mem       box       obj       cls    labels  img_size\n",
      "     20/99     12.2G   0.02691    0.0097  0.003346        68       608: 100% 101/101 [05:41<00:00,  3.38s/it]\n",
      "               Class     Images     Labels          P          R     mAP@.5 mAP@.5:.95: 100% 13/13 [00:30<00:00,  2.37s/it]\n",
      "                 all       1259       1256      0.954          1      0.971      0.695\n",
      "\n",
      "     Epoch   gpu_mem       box       obj       cls    labels  img_size\n",
      "     21/99     12.2G    0.0265  0.009703  0.003423        71       608: 100% 101/101 [05:37<00:00,  3.34s/it]\n",
      "               Class     Images     Labels          P          R     mAP@.5 mAP@.5:.95: 100% 13/13 [00:32<00:00,  2.47s/it]\n",
      "                 all       1259       1256      0.952          1      0.971      0.703\n",
      "\n",
      "     Epoch   gpu_mem       box       obj       cls    labels  img_size\n",
      "     22/99     12.2G   0.02695  0.009635  0.003444        80       608: 100% 101/101 [05:40<00:00,  3.37s/it]\n",
      "               Class     Images     Labels          P          R     mAP@.5 mAP@.5:.95: 100% 13/13 [00:30<00:00,  2.34s/it]\n",
      "                 all       1259       1256      0.954      0.996      0.973      0.679\n",
      "\n",
      "     Epoch   gpu_mem       box       obj       cls    labels  img_size\n",
      "     23/99     12.2G    0.0263  0.009794  0.003111        93       608: 100% 101/101 [05:40<00:00,  3.38s/it]\n",
      "               Class     Images     Labels          P          R     mAP@.5 mAP@.5:.95: 100% 13/13 [00:31<00:00,  2.46s/it]\n",
      "                 all       1259       1256      0.958      0.998      0.973      0.696\n",
      "\n",
      "     Epoch   gpu_mem       box       obj       cls    labels  img_size\n",
      "     24/99     12.2G   0.02614  0.009476  0.003336        71       608: 100% 101/101 [05:43<00:00,  3.41s/it]\n",
      "               Class     Images     Labels          P          R     mAP@.5 mAP@.5:.95: 100% 13/13 [00:29<00:00,  2.26s/it]\n",
      "                 all       1259       1256      0.952          1      0.972      0.693\n",
      "\n",
      "     Epoch   gpu_mem       box       obj       cls    labels  img_size\n",
      "     25/99     12.2G    0.0261  0.009516  0.003132        71       608: 100% 101/101 [05:41<00:00,  3.38s/it]\n",
      "               Class     Images     Labels          P          R     mAP@.5 mAP@.5:.95: 100% 13/13 [00:32<00:00,  2.50s/it]\n",
      "                 all       1259       1256      0.954          1      0.972      0.703\n",
      "\n",
      "     Epoch   gpu_mem       box       obj       cls    labels  img_size\n",
      "     26/99     12.2G   0.02555  0.009504  0.002929        86       608: 100% 101/101 [05:45<00:00,  3.42s/it]\n",
      "               Class     Images     Labels          P          R     mAP@.5 mAP@.5:.95: 100% 13/13 [00:30<00:00,  2.37s/it]\n",
      "                 all       1259       1256      0.956          1      0.974      0.716\n",
      "\n",
      "     Epoch   gpu_mem       box       obj       cls    labels  img_size\n",
      "     27/99     12.2G   0.02539  0.009273  0.002982        79       608: 100% 101/101 [05:42<00:00,  3.40s/it]\n",
      "               Class     Images     Labels          P          R     mAP@.5 mAP@.5:.95: 100% 13/13 [00:32<00:00,  2.47s/it]\n",
      "                 all       1259       1256      0.955          1      0.974      0.722\n",
      "\n",
      "     Epoch   gpu_mem       box       obj       cls    labels  img_size\n",
      "     28/99     12.2G   0.02546  0.009421  0.002804        73       608: 100% 101/101 [05:42<00:00,  3.39s/it]\n",
      "               Class     Images     Labels          P          R     mAP@.5 mAP@.5:.95: 100% 13/13 [00:30<00:00,  2.34s/it]\n",
      "                 all       1259       1256      0.955          1      0.978      0.718\n",
      "\n",
      "     Epoch   gpu_mem       box       obj       cls    labels  img_size\n",
      "     29/99     12.2G   0.02511  0.009292  0.002654        65       608: 100% 101/101 [05:41<00:00,  3.38s/it]\n",
      "               Class     Images     Labels          P          R     mAP@.5 mAP@.5:.95: 100% 13/13 [00:32<00:00,  2.49s/it]\n",
      "                 all       1259       1256      0.956          1      0.973      0.715\n",
      "\n",
      "     Epoch   gpu_mem       box       obj       cls    labels  img_size\n",
      "     30/99     12.2G    0.0252  0.009004  0.003055       109       608:  18% 18/101 [00:55<04:05,  2.95s/it]"
     ]
    }
   ],
   "source": [
    "%cd /content/yolov5/\n",
    "\n",
    "!python train.py --img 600 --batch 50 --epochs 100 --data /content/drive/MyDrive/Watching_You_PJ/Project_yolo/01_DataSet/3_train_Data/2022_05_11/data.yaml --cfg ./models/yolov5s.yaml --weights yolov5s.pt --name yolov5s_result\n",
    "#--img  =  이미지 크기 --batch 코어 수 --data yaml을 읽어야함 --cfg 모델의 구조임 yolo파일 안에 run파일 안에 저장되있음 \n",
    "# yolov5s -> l,m,s,x가 있는데 순서대로 사이즈가 커짐 뭔차이인지는 모름 --weights yolov5s.pt 고정된 pt파일로 무조건 한번 읽어야함\n",
    "# --name gun_yolov5s_result 결과물이 yolo파일안에 run파일안에 gun_yolov5s_result 로 나타남"
   ]
  },
  {
   "cell_type": "code",
   "execution_count": null,
   "metadata": {
    "id": "W3Uf8nBJWUnc",
    "pycharm": {
     "name": "#%%\n"
    }
   },
   "outputs": [],
   "source": [
    "# %load_ext tensorboard\n",
    "# %tensorboard --logdir /content/yolov5/runs/"
   ]
  },
  {
   "cell_type": "code",
   "source": [
    "%cp /content/yolov5/runs/train/2022_5_12_759_600_50_yolov5s_result/weights/best.pt /content/drive/MyDrive/Watching_You_PJ/suchan/output"
   ],
   "metadata": {
    "id": "ZMefNPs9Z9Dn",
    "pycharm": {
     "name": "#%%\n"
    }
   },
   "execution_count": null,
   "outputs": []
  },
  {
   "cell_type": "code",
   "execution_count": null,
   "metadata": {
    "id": "dJDNOFPMD7Bg",
    "pycharm": {
     "name": "#%%\n"
    }
   },
   "outputs": [],
   "source": [
    "# from IPython.display import Image\n",
    "# import os\n",
    "\n",
    "# val_img_path = val_img_list[2]\n",
    "\n",
    "# !python detect.py --weights /content/yolov5/runs/train/gun_yolov5s_result/weights/best.pt --img 416 --conf 0.5 --source \"{val_img_path}\"\n",
    "# Image(os.path.join('/content/yolov5/runs/detect', os.path.basename(val_img_path)))"
   ]
  },
  {
   "cell_type": "code",
   "execution_count": null,
   "metadata": {
    "id": "f7rPCyteE2jA",
    "pycharm": {
     "name": "#%%\n"
    }
   },
   "outputs": [],
   "source": [
    "%cd /content/yolov5/\n",
    "!python detect.py --source /content/drive/MyDrive/Watching_You_PJ/Project_yolo/01_DataSet/-1_Test_Data/test_concat01.mp4 --conf 0.7 --weight /content/yolov5/runs/train/2022_5_12_759_600_50_yolov5s_result/weights/best.pt"
   ]
  },
  {
   "cell_type": "markdown",
   "source": [],
   "metadata": {
    "id": "bTomDLT985z5",
    "pycharm": {
     "name": "#%% md\n"
    }
   }
  },
  {
   "cell_type": "code",
   "source": [
    "%cp -r /content/yolov5/runs /content/drive/MyDrive/Watching_You_PJ/suchan/output"
   ],
   "metadata": {
    "id": "9SLf_8tVWLi_",
    "pycharm": {
     "name": "#%%\n"
    }
   },
   "execution_count": null,
   "outputs": []
  }
 ],
 "metadata": {
  "accelerator": "GPU",
  "colab": {
   "collapsed_sections": [],
   "name": "yolo5v.ipynb",
   "provenance": [],
   "machine_shape": "hm"
  },
  "kernelspec": {
   "display_name": "Python 3",
   "name": "python3"
  },
  "language_info": {
   "name": "python"
  }
 },
 "nbformat": 4,
 "nbformat_minor": 0
}