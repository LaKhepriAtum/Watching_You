{
 "cells": [
  {
   "cell_type": "code",
   "source": [
    "from google.colab import drive\n",
    "drive.mount('/content/drive')"
   ],
   "metadata": {
    "colab": {
     "base_uri": "https://localhost:8080/"
    },
    "id": "Wet-sIZFA06R",
    "executionInfo": {
     "status": "ok",
     "timestamp": 1652346811196,
     "user_tz": -540,
     "elapsed": 2273,
     "user": {
      "displayName": "수찬",
      "userId": "00188858765518792207"
     }
    },
    "outputId": "8badbbfa-478b-468b-ff9c-eec0ea5f72b2",
    "pycharm": {
     "name": "#%%\n"
    }
   },
   "execution_count": 1,
   "outputs": [
    {
     "output_type": "stream",
     "name": "stdout",
     "text": [
      "Drive already mounted at /content/drive; to attempt to forcibly remount, call drive.mount(\"/content/drive\", force_remount=True).\n"
     ]
    }
   ]
  },
  {
   "cell_type": "code",
   "execution_count": 2,
   "metadata": {
    "id": "-_ifPcdXQhZ3",
    "colab": {
     "base_uri": "https://localhost:8080/"
    },
    "executionInfo": {
     "status": "ok",
     "timestamp": 1652346811196,
     "user_tz": -540,
     "elapsed": 7,
     "user": {
      "displayName": "수찬",
      "userId": "00188858765518792207"
     }
    },
    "outputId": "8c2b12e3-b5ac-424e-abfc-fb15229bd86e",
    "pycharm": {
     "name": "#%%\n"
    }
   },
   "outputs": [
    {
     "output_type": "stream",
     "name": "stdout",
     "text": [
      "/content\n",
      "fatal: destination path 'yolov5' already exists and is not an empty directory.\n"
     ]
    }
   ],
   "source": [
    "%cd /content\n",
    "!git clone https://github.com/ultralytics/yolov5.git\n",
    "\n",
    "# 욜로5 만든사람 깃허브 클론해서 다운받음"
   ]
  },
  {
   "cell_type": "code",
   "execution_count": 3,
   "metadata": {
    "id": "5siiW9NLRISe",
    "colab": {
     "base_uri": "https://localhost:8080/"
    },
    "executionInfo": {
     "status": "ok",
     "timestamp": 1652346816505,
     "user_tz": -540,
     "elapsed": 5313,
     "user": {
      "displayName": "수찬",
      "userId": "00188858765518792207"
     }
    },
    "outputId": "9799a6e0-61dc-4aeb-d713-d0e10816ba84",
    "pycharm": {
     "name": "#%%\n"
    }
   },
   "outputs": [
    {
     "output_type": "stream",
     "name": "stdout",
     "text": [
      "/content/yolov5\n",
      "Requirement already satisfied: matplotlib>=3.2.2 in /usr/local/lib/python3.7/dist-packages (from -r requirements.txt (line 4)) (3.2.2)\n",
      "Requirement already satisfied: numpy>=1.18.5 in /usr/local/lib/python3.7/dist-packages (from -r requirements.txt (line 5)) (1.21.6)\n",
      "Requirement already satisfied: opencv-python>=4.1.1 in /usr/local/lib/python3.7/dist-packages (from -r requirements.txt (line 6)) (4.1.2.30)\n",
      "Requirement already satisfied: Pillow>=7.1.2 in /usr/local/lib/python3.7/dist-packages (from -r requirements.txt (line 7)) (7.1.2)\n",
      "Requirement already satisfied: PyYAML>=5.3.1 in /usr/local/lib/python3.7/dist-packages (from -r requirements.txt (line 8)) (6.0)\n",
      "Requirement already satisfied: requests>=2.23.0 in /usr/local/lib/python3.7/dist-packages (from -r requirements.txt (line 9)) (2.23.0)\n",
      "Requirement already satisfied: scipy>=1.4.1 in /usr/local/lib/python3.7/dist-packages (from -r requirements.txt (line 10)) (1.4.1)\n",
      "Requirement already satisfied: torch>=1.7.0 in /usr/local/lib/python3.7/dist-packages (from -r requirements.txt (line 11)) (1.11.0+cu113)\n",
      "Requirement already satisfied: torchvision>=0.8.1 in /usr/local/lib/python3.7/dist-packages (from -r requirements.txt (line 12)) (0.12.0+cu113)\n",
      "Requirement already satisfied: tqdm>=4.41.0 in /usr/local/lib/python3.7/dist-packages (from -r requirements.txt (line 13)) (4.64.0)\n",
      "Requirement already satisfied: tensorboard>=2.4.1 in /usr/local/lib/python3.7/dist-packages (from -r requirements.txt (line 16)) (2.8.0)\n",
      "Requirement already satisfied: pandas>=1.1.4 in /usr/local/lib/python3.7/dist-packages (from -r requirements.txt (line 20)) (1.3.5)\n",
      "Requirement already satisfied: seaborn>=0.11.0 in /usr/local/lib/python3.7/dist-packages (from -r requirements.txt (line 21)) (0.11.2)\n",
      "Requirement already satisfied: thop in /usr/local/lib/python3.7/dist-packages (from -r requirements.txt (line 37)) (0.0.31.post2005241907)\n",
      "Requirement already satisfied: kiwisolver>=1.0.1 in /usr/local/lib/python3.7/dist-packages (from matplotlib>=3.2.2->-r requirements.txt (line 4)) (1.4.2)\n",
      "Requirement already satisfied: cycler>=0.10 in /usr/local/lib/python3.7/dist-packages (from matplotlib>=3.2.2->-r requirements.txt (line 4)) (0.11.0)\n",
      "Requirement already satisfied: python-dateutil>=2.1 in /usr/local/lib/python3.7/dist-packages (from matplotlib>=3.2.2->-r requirements.txt (line 4)) (2.8.2)\n",
      "Requirement already satisfied: pyparsing!=2.0.4,!=2.1.2,!=2.1.6,>=2.0.1 in /usr/local/lib/python3.7/dist-packages (from matplotlib>=3.2.2->-r requirements.txt (line 4)) (3.0.8)\n",
      "Requirement already satisfied: urllib3!=1.25.0,!=1.25.1,<1.26,>=1.21.1 in /usr/local/lib/python3.7/dist-packages (from requests>=2.23.0->-r requirements.txt (line 9)) (1.24.3)\n",
      "Requirement already satisfied: chardet<4,>=3.0.2 in /usr/local/lib/python3.7/dist-packages (from requests>=2.23.0->-r requirements.txt (line 9)) (3.0.4)\n",
      "Requirement already satisfied: certifi>=2017.4.17 in /usr/local/lib/python3.7/dist-packages (from requests>=2.23.0->-r requirements.txt (line 9)) (2021.10.8)\n",
      "Requirement already satisfied: idna<3,>=2.5 in /usr/local/lib/python3.7/dist-packages (from requests>=2.23.0->-r requirements.txt (line 9)) (2.10)\n",
      "Requirement already satisfied: typing-extensions in /usr/local/lib/python3.7/dist-packages (from torch>=1.7.0->-r requirements.txt (line 11)) (4.2.0)\n",
      "Requirement already satisfied: google-auth-oauthlib<0.5,>=0.4.1 in /usr/local/lib/python3.7/dist-packages (from tensorboard>=2.4.1->-r requirements.txt (line 16)) (0.4.6)\n",
      "Requirement already satisfied: tensorboard-data-server<0.7.0,>=0.6.0 in /usr/local/lib/python3.7/dist-packages (from tensorboard>=2.4.1->-r requirements.txt (line 16)) (0.6.1)\n",
      "Requirement already satisfied: markdown>=2.6.8 in /usr/local/lib/python3.7/dist-packages (from tensorboard>=2.4.1->-r requirements.txt (line 16)) (3.3.6)\n",
      "Requirement already satisfied: absl-py>=0.4 in /usr/local/lib/python3.7/dist-packages (from tensorboard>=2.4.1->-r requirements.txt (line 16)) (1.0.0)\n",
      "Requirement already satisfied: grpcio>=1.24.3 in /usr/local/lib/python3.7/dist-packages (from tensorboard>=2.4.1->-r requirements.txt (line 16)) (1.44.0)\n",
      "Requirement already satisfied: setuptools>=41.0.0 in /usr/local/lib/python3.7/dist-packages (from tensorboard>=2.4.1->-r requirements.txt (line 16)) (57.4.0)\n",
      "Requirement already satisfied: tensorboard-plugin-wit>=1.6.0 in /usr/local/lib/python3.7/dist-packages (from tensorboard>=2.4.1->-r requirements.txt (line 16)) (1.8.1)\n",
      "Requirement already satisfied: protobuf>=3.6.0 in /usr/local/lib/python3.7/dist-packages (from tensorboard>=2.4.1->-r requirements.txt (line 16)) (3.17.3)\n",
      "Requirement already satisfied: wheel>=0.26 in /usr/local/lib/python3.7/dist-packages (from tensorboard>=2.4.1->-r requirements.txt (line 16)) (0.37.1)\n",
      "Requirement already satisfied: werkzeug>=0.11.15 in /usr/local/lib/python3.7/dist-packages (from tensorboard>=2.4.1->-r requirements.txt (line 16)) (1.0.1)\n",
      "Requirement already satisfied: google-auth<3,>=1.6.3 in /usr/local/lib/python3.7/dist-packages (from tensorboard>=2.4.1->-r requirements.txt (line 16)) (1.35.0)\n",
      "Requirement already satisfied: pytz>=2017.3 in /usr/local/lib/python3.7/dist-packages (from pandas>=1.1.4->-r requirements.txt (line 20)) (2022.1)\n",
      "Requirement already satisfied: six in /usr/local/lib/python3.7/dist-packages (from absl-py>=0.4->tensorboard>=2.4.1->-r requirements.txt (line 16)) (1.15.0)\n",
      "Requirement already satisfied: rsa<5,>=3.1.4 in /usr/local/lib/python3.7/dist-packages (from google-auth<3,>=1.6.3->tensorboard>=2.4.1->-r requirements.txt (line 16)) (4.8)\n",
      "Requirement already satisfied: cachetools<5.0,>=2.0.0 in /usr/local/lib/python3.7/dist-packages (from google-auth<3,>=1.6.3->tensorboard>=2.4.1->-r requirements.txt (line 16)) (4.2.4)\n",
      "Requirement already satisfied: pyasn1-modules>=0.2.1 in /usr/local/lib/python3.7/dist-packages (from google-auth<3,>=1.6.3->tensorboard>=2.4.1->-r requirements.txt (line 16)) (0.2.8)\n",
      "Requirement already satisfied: requests-oauthlib>=0.7.0 in /usr/local/lib/python3.7/dist-packages (from google-auth-oauthlib<0.5,>=0.4.1->tensorboard>=2.4.1->-r requirements.txt (line 16)) (1.3.1)\n",
      "Requirement already satisfied: importlib-metadata>=4.4 in /usr/local/lib/python3.7/dist-packages (from markdown>=2.6.8->tensorboard>=2.4.1->-r requirements.txt (line 16)) (4.11.3)\n",
      "Requirement already satisfied: zipp>=0.5 in /usr/local/lib/python3.7/dist-packages (from importlib-metadata>=4.4->markdown>=2.6.8->tensorboard>=2.4.1->-r requirements.txt (line 16)) (3.8.0)\n",
      "Requirement already satisfied: pyasn1<0.5.0,>=0.4.6 in /usr/local/lib/python3.7/dist-packages (from pyasn1-modules>=0.2.1->google-auth<3,>=1.6.3->tensorboard>=2.4.1->-r requirements.txt (line 16)) (0.4.8)\n",
      "Requirement already satisfied: oauthlib>=3.0.0 in /usr/local/lib/python3.7/dist-packages (from requests-oauthlib>=0.7.0->google-auth-oauthlib<0.5,>=0.4.1->tensorboard>=2.4.1->-r requirements.txt (line 16)) (3.2.0)\n"
     ]
    }
   ],
   "source": [
    "% cd /content/yolov5/\n",
    "!pip install -r requirements.txt\n",
    "# 모듈 설치 해야함"
   ]
  },
  {
   "cell_type": "code",
   "execution_count": 4,
   "metadata": {
    "colab": {
     "base_uri": "https://localhost:8080/"
    },
    "executionInfo": {
     "elapsed": 8,
     "status": "ok",
     "timestamp": 1652346816506,
     "user": {
      "displayName": "수찬",
      "userId": "00188858765518792207"
     },
     "user_tz": -540
    },
    "id": "qj9HkyYpRaSV",
    "outputId": "b8b9d03e-aab4-4acc-e9a8-538fcf938578",
    "pycharm": {
     "name": "#%%\n"
    }
   },
   "outputs": [
    {
     "output_type": "stream",
     "name": "stdout",
     "text": [
      "train: /content/drive/MyDrive/Watching_You_PJ/yolo_train/dataset/train.txt\n",
      "\n",
      "val: /content/drive/MyDrive/Watching_You_PJ/yolo_train/dataset/val.txt\n",
      "\n",
      "nc: 37\n",
      "names: ['Handaxe',\n",
      " 'Comb-pattern Pottery',\n",
      " 'Ritual Bronze Object with Farming Scenes',\n",
      " 'Bronze Dagger and Lacquered Scabbard',\n",
      " 'Bronze Bowl with Inscription of “Hou(壺杅)”',\n",
      " 'Tile with Landscape Design',\n",
      " 'Helmet and Plate Armor',\n",
      " 'Gold Crown and Gold Belt',\n",
      " 'Iron Buddha',\n",
      " 'Ten-story Stone Pagoda from Gyeongcheonsa Temple',\n",
      " 'Ten-story Stone Pagoda from Gyeongcheonsa Temple',\n",
      " 'Ten-story Stone Pagoda from Gyeongcheonsa Temple',\n",
      " 'buddhist_bell',\n",
      " 'Joseon Metal Type for Hangeul',\n",
      " 'Daedongnyeojido: Territorial Map of Korea',\n",
      " 'Royal Seal for Imperial Edicts',\n",
      " 'Stele for the Buddhist Monk Nanggongdaesa at Taejasa Temple',\n",
      " 'A Dancing Boy from Album of Genre Painting',\n",
      " 'Buddhist Hanging Scroll',\n",
      " 'Lacquered Clothing Box Inlaid with Mother-of-pearl',\n",
      " 'Buncheong Ware Bottle with Lotus and Scrolls Design',\n",
      " 'Bronze Helmet',\n",
      " 'Buddhist Boy',\n",
      " 'White Porcelain Bottle with Orchid Design',\n",
      " 'Maitreya and Amitabha from Gamsansa Temple Site, Gyeongju',\n",
      " 'Gilt-bronze Seated Avalokitesvara Bodhisattva',\n",
      " 'Buddha from the Pagoda at Guhwang-dong Temple Site, Gyeongju',\n",
      " 'Kundika with Landscape Design',\n",
      " 'Incense Burner, Celadon with Openwork Cloisonne Design',\n",
      " 'Dragon-shaped Ewer, Celadon',\n",
      " 'Buncheong Ware Jar with Cloud and Dragon Design',\n",
      " 'Blue-and-white Porcelain Jar with Plum, Bird and Bamboo Design',\n",
      " 'White Porcelain Jar',\n",
      " 'lady',\n",
      " 'bodhisattva',\n",
      " 'Blue-and-white Ewer with Fruit and Floral Design',\n",
      " 'Illustrated Album of The Tale of Genji']"
     ]
    }
   ],
   "source": [
    "%cat /content/drive/MyDrive/Watching_You_PJ/Project/01_DataSet/train_Data/2022_05_11/data.yaml\n",
    "#yaml 확인하는 코드"
   ]
  },
  {
   "cell_type": "code",
   "execution_count": 5,
   "metadata": {
    "colab": {
     "base_uri": "https://localhost:8080/"
    },
    "executionInfo": {
     "elapsed": 5,
     "status": "ok",
     "timestamp": 1652346816506,
     "user": {
      "displayName": "수찬",
      "userId": "00188858765518792207"
     },
     "user_tz": -540
    },
    "id": "EUgGUkYVRmC9",
    "outputId": "0b612d7e-66fa-481c-b5c8-c2a04c22dc8b",
    "pycharm": {
     "name": "#%%\n"
    }
   },
   "outputs": [
    {
     "output_type": "stream",
     "name": "stdout",
     "text": [
      "/\n",
      "6293\n"
     ]
    }
   ],
   "source": [
    "%cd /\n",
    "from glob import glob\n",
    "\n",
    "img_list = glob('/content/drive/MyDrive/Watching_You_PJ/Project/01_DataSet/train_Data/2022_05_11/train/images/*.jpg')\n",
    "print(len(img_list))"
   ]
  },
  {
   "cell_type": "code",
   "execution_count": 6,
   "metadata": {
    "colab": {
     "base_uri": "https://localhost:8080/"
    },
    "executionInfo": {
     "elapsed": 390,
     "status": "ok",
     "timestamp": 1652346816893,
     "user": {
      "displayName": "수찬",
      "userId": "00188858765518792207"
     },
     "user_tz": -540
    },
    "id": "XTWumpbMSEc3",
    "outputId": "bc67b0f8-5366-4e7f-a131-95e49f2eca92",
    "pycharm": {
     "name": "#%%\n"
    }
   },
   "outputs": [
    {
     "output_type": "stream",
     "name": "stdout",
     "text": [
      "5034 1259\n"
     ]
    }
   ],
   "source": [
    "from sklearn.model_selection import train_test_split\n",
    "\n",
    "train_img_list, val_img_list = train_test_split(img_list, test_size = 0.2, random_state = 759)\n",
    "print(len(train_img_list), len(val_img_list))\n",
    "\n",
    "#이미지파일이 1개이기때문에 train과 val로 나누는 코드"
   ]
  },
  {
   "cell_type": "code",
   "execution_count": 7,
   "metadata": {
    "id": "AylnVdUMSPNs",
    "executionInfo": {
     "status": "ok",
     "timestamp": 1652346816894,
     "user_tz": -540,
     "elapsed": 2,
     "user": {
      "displayName": "수찬",
      "userId": "00188858765518792207"
     }
    },
    "pycharm": {
     "name": "#%%\n"
    }
   },
   "outputs": [],
   "source": [
    "with open('/content/drive/MyDrive/Watching_You_PJ/yolo_train/dataset/train.txt', 'w') as f:\n",
    "  f.write('\\n'.join(train_img_list)+ '\\n')\n",
    "\n",
    "with open('/content/drive/MyDrive/Watching_You_PJ/yolo_train/dataset/val.txt','w') as f:\n",
    "  f.write('\\n'.join(val_img_list) + '\\n')\n",
    "\n",
    "# 이미지 경로를 txt로 저장해줌"
   ]
  },
  {
   "cell_type": "code",
   "source": [
    "# !nvidia-smi"
   ],
   "metadata": {
    "id": "UgYGkwuBG9UG",
    "executionInfo": {
     "status": "ok",
     "timestamp": 1652346816894,
     "user_tz": -540,
     "elapsed": 2,
     "user": {
      "displayName": "수찬",
      "userId": "00188858765518792207"
     }
    },
    "pycharm": {
     "name": "#%%\n"
    }
   },
   "execution_count": 8,
   "outputs": []
  },
  {
   "cell_type": "code",
   "execution_count": null,
   "metadata": {
    "colab": {
     "base_uri": "https://localhost:8080/"
    },
    "id": "3gF871UVUYsk",
    "outputId": "a604a325-a34a-416a-8a35-0f6e65d99e4e",
    "pycharm": {
     "name": "#%%\n"
    }
   },
   "outputs": [
    {
     "output_type": "stream",
     "name": "stdout",
     "text": [
      "/content/yolov5\n",
      "\u001B[34m\u001B[1mtrain: \u001B[0mweights=yolov5s.pt, cfg=./models/yolov5s.yaml, data=/content/drive/MyDrive/Watching_You_PJ/Project/01_DataSet/train_Data/2022_05_11/data.yaml, hyp=data/hyps/hyp.scratch-low.yaml, epochs=100, batch_size=50, imgsz=600, rect=False, resume=False, nosave=False, noval=False, noautoanchor=False, noplots=False, evolve=None, bucket=, cache=None, image_weights=False, device=, multi_scale=False, single_cls=False, optimizer=SGD, sync_bn=False, workers=8, project=runs/train, name=2022_5_12_759_600_50_yolov5s_result, exist_ok=False, quad=False, cos_lr=False, label_smoothing=0.0, patience=100, freeze=[0], save_period=-1, local_rank=-1, entity=None, upload_dataset=False, bbox_interval=-1, artifact_alias=latest\n",
      "\u001B[34m\u001B[1mgithub: \u001B[0mup to date with https://github.com/ultralytics/yolov5 ✅\n",
      "YOLOv5 🚀 v6.1-178-g4870064 torch 1.11.0+cu113 CUDA:0 (Tesla P100-PCIE-16GB, 16281MiB)\n",
      "\n",
      "\u001B[34m\u001B[1mhyperparameters: \u001B[0mlr0=0.01, lrf=0.01, momentum=0.937, weight_decay=0.0005, warmup_epochs=3.0, warmup_momentum=0.8, warmup_bias_lr=0.1, box=0.05, cls=0.5, cls_pw=1.0, obj=1.0, obj_pw=1.0, iou_t=0.2, anchor_t=4.0, fl_gamma=0.0, hsv_h=0.015, hsv_s=0.7, hsv_v=0.4, degrees=0.0, translate=0.1, scale=0.5, shear=0.0, perspective=0.0, flipud=0.0, fliplr=0.5, mosaic=1.0, mixup=0.0, copy_paste=0.0\n",
      "\u001B[34m\u001B[1mWeights & Biases: \u001B[0mrun 'pip install wandb' to automatically track and visualize YOLOv5 🚀 runs (RECOMMENDED)\n",
      "\u001B[34m\u001B[1mTensorBoard: \u001B[0mStart with 'tensorboard --logdir runs/train', view at http://localhost:6006/\n",
      "Overriding model.yaml nc=80 with nc=37\n",
      "\n",
      "                 from  n    params  module                                  arguments                     \n",
      "  0                -1  1      3520  models.common.Conv                      [3, 32, 6, 2, 2]              \n",
      "  1                -1  1     18560  models.common.Conv                      [32, 64, 3, 2]                \n",
      "  2                -1  1     18816  models.common.C3                        [64, 64, 1]                   \n",
      "  3                -1  1     73984  models.common.Conv                      [64, 128, 3, 2]               \n",
      "  4                -1  2    115712  models.common.C3                        [128, 128, 2]                 \n",
      "  5                -1  1    295424  models.common.Conv                      [128, 256, 3, 2]              \n",
      "  6                -1  3    625152  models.common.C3                        [256, 256, 3]                 \n",
      "  7                -1  1   1180672  models.common.Conv                      [256, 512, 3, 2]              \n",
      "  8                -1  1   1182720  models.common.C3                        [512, 512, 1]                 \n",
      "  9                -1  1    656896  models.common.SPPF                      [512, 512, 5]                 \n",
      " 10                -1  1    131584  models.common.Conv                      [512, 256, 1, 1]              \n",
      " 11                -1  1         0  torch.nn.modules.upsampling.Upsample    [None, 2, 'nearest']          \n",
      " 12           [-1, 6]  1         0  models.common.Concat                    [1]                           \n",
      " 13                -1  1    361984  models.common.C3                        [512, 256, 1, False]          \n",
      " 14                -1  1     33024  models.common.Conv                      [256, 128, 1, 1]              \n",
      " 15                -1  1         0  torch.nn.modules.upsampling.Upsample    [None, 2, 'nearest']          \n",
      " 16           [-1, 4]  1         0  models.common.Concat                    [1]                           \n",
      " 17                -1  1     90880  models.common.C3                        [256, 128, 1, False]          \n",
      " 18                -1  1    147712  models.common.Conv                      [128, 128, 3, 2]              \n",
      " 19          [-1, 14]  1         0  models.common.Concat                    [1]                           \n",
      " 20                -1  1    296448  models.common.C3                        [256, 256, 1, False]          \n",
      " 21                -1  1    590336  models.common.Conv                      [256, 256, 3, 2]              \n",
      " 22          [-1, 10]  1         0  models.common.Concat                    [1]                           \n",
      " 23                -1  1   1182720  models.common.C3                        [512, 512, 1, False]          \n",
      " 24      [17, 20, 23]  1    113274  models.yolo.Detect                      [37, [[10, 13, 16, 30, 33, 23], [30, 61, 62, 45, 59, 119], [116, 90, 156, 198, 373, 326]], [128, 256, 512]]\n",
      "YOLOv5s summary: 270 layers, 7119418 parameters, 7119418 gradients, 16.2 GFLOPs\n",
      "\n",
      "Transferred 342/349 items from yolov5s.pt\n",
      "WARNING: --img-size 600 must be multiple of max stride 32, updating to 608\n",
      "Scaled weight_decay = 0.000390625\n",
      "\u001B[34m\u001B[1moptimizer:\u001B[0m SGD with parameter groups 57 weight (no decay), 60 weight, 60 bias\n",
      "\u001B[34m\u001B[1malbumentations: \u001B[0mversion 1.0.3 required by YOLOv5, but version 0.1.12 is currently installed\n",
      "\u001B[34m\u001B[1mtrain: \u001B[0mScanning '/content/drive/MyDrive/Watching_You_PJ/yolo_train/dataset/train' images and labels...5032 found, 2 missing, 13 empty, 0 corrupt: 100% 5034/5034 [00:23<00:00, 210.91it/s]\n",
      "\u001B[34m\u001B[1mtrain: \u001B[0mNew cache created: /content/drive/MyDrive/Watching_You_PJ/yolo_train/dataset/train.cache\n",
      "\u001B[34m\u001B[1mval: \u001B[0mScanning '/content/drive/MyDrive/Watching_You_PJ/yolo_train/dataset/val' images and labels...1259 found, 0 missing, 3 empty, 0 corrupt: 100% 1259/1259 [00:08<00:00, 149.21it/s]\n",
      "\u001B[34m\u001B[1mval: \u001B[0mNew cache created: /content/drive/MyDrive/Watching_You_PJ/yolo_train/dataset/val.cache\n",
      "Plotting labels to runs/train/2022_5_12_759_600_50_yolov5s_result/labels.jpg... \n",
      "\n",
      "\u001B[34m\u001B[1mAutoAnchor: \u001B[0m4.42 anchors/target, 0.999 Best Possible Recall (BPR). Current anchors are a good fit to dataset ✅\n",
      "Image sizes 608 train, 608 val\n",
      "Using 4 dataloader workers\n",
      "Logging results to \u001B[1mruns/train/2022_5_12_759_600_50_yolov5s_result\u001B[0m\n",
      "Starting training for 100 epochs...\n",
      "\n",
      "     Epoch   gpu_mem       box       obj       cls    labels  img_size\n",
      "      0/99     9.51G   0.06399   0.02527   0.08385        83       608: 100% 101/101 [03:23<00:00,  2.02s/it]\n",
      "               Class     Images     Labels          P          R     mAP@.5 mAP@.5:.95: 100% 13/13 [00:15<00:00,  1.22s/it]\n",
      "                 all       1259       1256      0.169       0.52      0.324      0.164\n",
      "\n",
      "     Epoch   gpu_mem       box       obj       cls    labels  img_size\n",
      "      1/99     10.8G    0.0476    0.0142   0.05443        76       608: 100% 101/101 [03:28<00:00,  2.06s/it]\n",
      "               Class     Images     Labels          P          R     mAP@.5 mAP@.5:.95: 100% 13/13 [00:16<00:00,  1.25s/it]\n",
      "                 all       1259       1256      0.648      0.824      0.802      0.399\n",
      "\n",
      "     Epoch   gpu_mem       box       obj       cls    labels  img_size\n",
      "      2/99     10.8G   0.04882   0.01226   0.02364        83       608: 100% 101/101 [03:27<00:00,  2.05s/it]\n",
      "               Class     Images     Labels          P          R     mAP@.5 mAP@.5:.95: 100% 13/13 [00:15<00:00,  1.23s/it]\n",
      "                 all       1259       1255      0.643      0.812      0.805      0.409\n",
      "\n",
      "     Epoch   gpu_mem       box       obj       cls    labels  img_size\n",
      "      3/99     10.8G   0.04474   0.01195   0.01406       118       608:  75% 76/101 [02:36<00:38,  1.54s/it]"
     ]
    }
   ],
   "source": [
    "%cd /content/yolov5/\n",
    "\n",
    "!python train.py --img 600 --batch 50 --epochs 100 --data /content/drive/MyDrive/Watching_You_PJ/Project/01_DataSet/train_Data/2022_05_11/data.yaml --cfg ./models/yolov5s.yaml --weights yolov5s.pt --name 2022_5_12_759_600_50_yolov5s_result\n",
    "#--img  =  이미지 크기 --batch 코어 수 --data yaml을 읽어야함 --cfg 모델의 구조임 yolo파일 안에 run파일 안에 저장되있음 \n",
    "# yolov5s -> l,m,s,x가 있는데 순서대로 사이즈가 커짐 뭔차이인지는 모름 --weights yolov5s.pt 고정된 pt파일로 무조건 한번 읽어야함\n",
    "# --name gun_yolov5s_result 결과물이 yolo파일안에 run파일안에 gun_yolov5s_result 로 나타남"
   ]
  },
  {
   "cell_type": "code",
   "execution_count": null,
   "metadata": {
    "id": "W3Uf8nBJWUnc",
    "pycharm": {
     "name": "#%%\n"
    }
   },
   "outputs": [],
   "source": [
    "# %load_ext tensorboard\n",
    "# %tensorboard --logdir /content/yolov5/runs/"
   ]
  },
  {
   "cell_type": "code",
   "source": [
    "%cp /content/yolov5/runs/train/2022_5_12_759_600_50_yolov5s_result/weights/best.pt /content/drive/MyDrive/Watching_You_PJ/suchan/output"
   ],
   "metadata": {
    "id": "ZMefNPs9Z9Dn",
    "pycharm": {
     "name": "#%%\n"
    }
   },
   "execution_count": null,
   "outputs": []
  },
  {
   "cell_type": "code",
   "execution_count": null,
   "metadata": {
    "id": "dJDNOFPMD7Bg",
    "pycharm": {
     "name": "#%%\n"
    }
   },
   "outputs": [],
   "source": [
    "# from IPython.display import Image\n",
    "# import os\n",
    "\n",
    "# val_img_path = val_img_list[2]\n",
    "\n",
    "# !python detect.py --weights /content/yolov5/runs/train/gun_yolov5s_result/weights/best.pt --img 416 --conf 0.5 --source \"{val_img_path}\"\n",
    "# Image(os.path.join('/content/yolov5/runs/detect', os.path.basename(val_img_path)))"
   ]
  },
  {
   "cell_type": "code",
   "execution_count": null,
   "metadata": {
    "id": "f7rPCyteE2jA",
    "pycharm": {
     "name": "#%%\n"
    }
   },
   "outputs": [],
   "source": [
    "%cd /content/yolov5/\n",
    "!python detect.py --source /content/drive/MyDrive/Watching_You_PJ/Project/01_DataSet/-1_Test_Data/test_concat.mp4 --conf 0.7 --weight /content/yolov5/runs/train/2022_5_12_759_600_50_yolov5s_result/weights/best.pt"
   ]
  },
  {
   "cell_type": "code",
   "source": [
    "%cd /content/yolov5/\n",
    "!python detect.py --source /content/drive/MyDrive/Watching_You_PJ/Project/01_DataSet/-1_Test_Data/test_concat.mp4 --conf 0.65 --weight /content/yolov5/runs/train/2022_5_12_759_600_50_yolov5s_result/weights/best.pt"
   ],
   "metadata": {
    "id": "L-b0GtvnTeLn",
    "pycharm": {
     "name": "#%%\n"
    }
   },
   "execution_count": null,
   "outputs": []
  },
  {
   "cell_type": "code",
   "source": [
    "%cd /content/yolov5/\n",
    "!python detect.py --source /content/drive/MyDrive/Watching_You_PJ/Project/01_DataSet/-1_Test_Data/test_concat.mp4 --conf 0.6 --weight /content/yolov5/runs/train/2022_5_12_759_600_50_yolov5s_result/weights/best.pt"
   ],
   "metadata": {
    "id": "QWt9O8mLTfZw",
    "pycharm": {
     "name": "#%%\n"
    }
   },
   "execution_count": null,
   "outputs": []
  },
  {
   "cell_type": "code",
   "source": [
    "%cd /content/yolov5/\n",
    "!python detect.py --source /content/drive/MyDrive/Watching_You_PJ/Project/01_DataSet/-1_Test_Data/test_concat.mp4 --conf 0.8 --weight /content/yolov5/runs/train/2022_5_12_759_600_50_yolov5s_result/weights/best.pt"
   ],
   "metadata": {
    "id": "05KhP_tqTgpG",
    "pycharm": {
     "name": "#%%\n"
    }
   },
   "execution_count": null,
   "outputs": []
  },
  {
   "cell_type": "code",
   "source": [
    "%cd /content/yolov5/\n",
    "!python detect.py --source /content/drive/MyDrive/Watching_You_PJ/Project/01_DataSet/-1_Test_Data/test_concat.mp4 --conf 0.5 --weight /content/yolov5/runs/train/2022_5_12_759_600_50_yolov5s_result/weights/best.pt"
   ],
   "metadata": {
    "id": "jUOHFBrEThv-",
    "pycharm": {
     "name": "#%%\n"
    }
   },
   "execution_count": null,
   "outputs": []
  },
  {
   "cell_type": "code",
   "source": [
    "%cp -r /content/yolov5/runs /content/drive/MyDrive/Watching_You_PJ/suchan/output"
   ],
   "metadata": {
    "id": "9SLf_8tVWLi_",
    "pycharm": {
     "name": "#%%\n"
    }
   },
   "execution_count": null,
   "outputs": []
  }
 ],
 "metadata": {
  "accelerator": "GPU",
  "colab": {
   "collapsed_sections": [],
   "name": "yolo5v.ipynb",
   "provenance": [
    {
     "file_id": "14AaODW-Yl8uw7D-1xr61a_ss5VfixiHz",
     "timestamp": 1651651162810
    },
    {
     "file_id": "1ZzwFogR_l-tcmXxBb0_peH43sSA1Fdn9",
     "timestamp": 1651633199437
    },
    {
     "file_id": "11AyGE2D5XcvQIfcsyBPtz-l7tbjRx4Uq",
     "timestamp": 1651562674194
    }
   ],
   "machine_shape": "hm"
  },
  "kernelspec": {
   "display_name": "Python 3",
   "name": "python3"
  },
  "language_info": {
   "name": "python"
  }
 },
 "nbformat": 4,
 "nbformat_minor": 0
}