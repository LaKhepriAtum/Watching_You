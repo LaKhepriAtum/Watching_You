{
 "cells": [
  {
   "cell_type": "code",
   "execution_count": 99,
   "metadata": {
    "collapsed": true
   },
   "outputs": [
    {
     "name": "stdout",
     "output_type": "stream",
     "text": [
      "C:\\Watching_You\\VideoFile\\그릇 받침.mp4 => geuleus bad.mp4\n",
      "C:\\Watching_You\\VideoFile\\그릇 받침_2.mp4 => geuleus badc.mp4\n",
      "C:\\Watching_You\\VideoFile\\그릇이나 음식을 보관하는 탁_2.mp4 => geuleus-ina eumsig-eul bogwanhaneun t.mp4\n",
      "C:\\Watching_You\\VideoFile\\그릇이나 음식을 보관하는 탁자.mp4 => geuleus-ina eumsig-eul bogwanhaneun ta.mp4\n",
      "C:\\Watching_You\\VideoFile\\금동관.mp4 => geumdong-.mp4\n",
      "C:\\Watching_You\\VideoFile\\나한.mp4 => n.mp4\n",
      "C:\\Watching_You\\VideoFile\\난초,대나무,바위.mp4 => nancho,daenamu,.mp4\n",
      "C:\\Watching_You\\VideoFile\\난초,대나무,바위_2.mp4 => nancho,daenamu,b.mp4\n",
      "C:\\Watching_You\\VideoFile\\난초.mp4 => na.mp4\n",
      "C:\\Watching_You\\VideoFile\\난초_2.mp4 => nan.mp4\n",
      "C:\\Watching_You\\VideoFile\\대승당.mp4 => daeseung.mp4\n",
      "C:\\Watching_You\\VideoFile\\대승당_2.mp4 => daeseungd.mp4\n",
      "C:\\Watching_You\\VideoFile\\망청장에서의 한가로운 삶.mp4 => mangcheong.mp4\n",
      "C:\\Watching_You\\VideoFile\\망청장에서의 한가로운 삶_2.mp4 => mangcheongj.mp4\n",
      "C:\\Watching_You\\VideoFile\\매화.mp4 => ma.mp4\n",
      "C:\\Watching_You\\VideoFile\\매화2.mp4 => mae.mp4\n",
      "C:\\Watching_You\\VideoFile\\목련.mp4 => mogl.mp4\n",
      "C:\\Watching_You\\VideoFile\\목련2.mp4 => mogl.mp4\n"
     ]
    },
    {
     "ename": "FileExistsError",
     "evalue": "[WinError 183] 파일이 이미 있으므로 만들 수 없습니다: 'C:\\\\Watching_You\\\\VideoFile\\\\목련2.mp4' -> 'mogl.mp4'",
     "output_type": "error",
     "traceback": [
      "\u001B[1;31m---------------------------------------------------------------------------\u001B[0m",
      "\u001B[1;31mFileExistsError\u001B[0m                           Traceback (most recent call last)",
      "\u001B[1;32m~\\AppData\\Local\\Temp\\ipykernel_4920\\2539564533.py\u001B[0m in \u001B[0;36m<module>\u001B[1;34m\u001B[0m\n\u001B[0;32m     25\u001B[0m         \u001B[0mi\u001B[0m \u001B[1;33m+=\u001B[0m \u001B[1;36m1\u001B[0m\u001B[1;33m\u001B[0m\u001B[1;33m\u001B[0m\u001B[0m\n\u001B[0;32m     26\u001B[0m \u001B[1;33m\u001B[0m\u001B[0m\n\u001B[1;32m---> 27\u001B[1;33m \u001B[0mchangeName\u001B[0m\u001B[1;33m(\u001B[0m\u001B[1;34m'C:\\\\Watching_You\\\\VideoFile\\\\'\u001B[0m\u001B[1;33m)\u001B[0m\u001B[1;33m\u001B[0m\u001B[1;33m\u001B[0m\u001B[0m\n\u001B[0m\u001B[0;32m     28\u001B[0m \u001B[1;33m\u001B[0m\u001B[0m\n",
      "\u001B[1;32m~\\AppData\\Local\\Temp\\ipykernel_4920\\2539564533.py\u001B[0m in \u001B[0;36mchangeName\u001B[1;34m(videoPath)\u001B[0m\n\u001B[0;32m     22\u001B[0m         \u001B[0mfile\u001B[0m \u001B[1;33m=\u001B[0m \u001B[0mfile\u001B[0m\u001B[1;33m[\u001B[0m\u001B[1;33m:\u001B[0m\u001B[1;33m-\u001B[0m\u001B[1;36m4\u001B[0m\u001B[1;33m]\u001B[0m\u001B[1;33m\u001B[0m\u001B[1;33m\u001B[0m\u001B[0m\n\u001B[0;32m     23\u001B[0m         \u001B[0mprint\u001B[0m\u001B[1;33m(\u001B[0m\u001B[0mvideoPath\u001B[0m\u001B[1;33m+\u001B[0m\u001B[0mfilename\u001B[0m\u001B[1;33m,\u001B[0m \u001B[1;34m'=>'\u001B[0m\u001B[1;33m,\u001B[0m \u001B[0mfile\u001B[0m\u001B[1;33m+\u001B[0m\u001B[1;34m'.mp4'\u001B[0m\u001B[1;33m)\u001B[0m\u001B[1;33m\u001B[0m\u001B[1;33m\u001B[0m\u001B[0m\n\u001B[1;32m---> 24\u001B[1;33m         \u001B[0mos\u001B[0m\u001B[1;33m.\u001B[0m\u001B[0mrename\u001B[0m\u001B[1;33m(\u001B[0m\u001B[0mvideoPath\u001B[0m\u001B[1;33m+\u001B[0m\u001B[0mfilename\u001B[0m\u001B[1;33m,\u001B[0m \u001B[0mfile\u001B[0m\u001B[1;33m+\u001B[0m\u001B[1;34m'.mp4'\u001B[0m\u001B[1;33m)\u001B[0m\u001B[1;33m\u001B[0m\u001B[1;33m\u001B[0m\u001B[0m\n\u001B[0m\u001B[0;32m     25\u001B[0m         \u001B[0mi\u001B[0m \u001B[1;33m+=\u001B[0m \u001B[1;36m1\u001B[0m\u001B[1;33m\u001B[0m\u001B[1;33m\u001B[0m\u001B[0m\n\u001B[0;32m     26\u001B[0m \u001B[1;33m\u001B[0m\u001B[0m\n",
      "\u001B[1;31mFileExistsError\u001B[0m: [WinError 183] 파일이 이미 있으므로 만들 수 없습니다: 'C:\\\\Watching_You\\\\VideoFile\\\\목련2.mp4' -> 'mogl.mp4'"
     ]
    }
   ],
   "source": [
    "import os\n",
    "import pandas as pd\n",
    "\n",
    "videoPath = 'C:\\\\Watching_You\\\\VideoFile\\\\'\n",
    "file_list = os.listdir(videoPath)\n",
    "# num_list =[]\n",
    "# df = pd.DataFrame()\n",
    "# for num in range (1, len(file_list)+1):\n",
    "#\n",
    "#     num_list.append(num)\n",
    "# df['num'] = num_list\n",
    "# df['title'] = file_list\n",
    "# df.set_index('num')\n",
    "# df.to_csv('C:\\\\Watching_You\\\\title.csv',encoding='utf-8-sig')\n",
    "df = pd.read_csv('C:\\\\Watching_You\\\\title.csv')\n",
    "\n",
    "file_list = df['englishname'].values.tolist()\n",
    "\n",
    "def changeName(videoPath):\n",
    "    i=1\n",
    "    for filename ,file in  zip (os.listdir(videoPath),file_list ):\n",
    "        print(videoPath+filename, '=>', file+'.mp4')\n",
    "        os.rename(videoPath+filename, file+'.mp4')\n",
    "        i += 1\n",
    "\n",
    "changeName('C:\\\\Watching_You\\\\VideoFile\\\\')\n"
   ]
  },
  {
   "cell_type": "code",
   "execution_count": null,
   "outputs": [],
   "source": [],
   "metadata": {
    "collapsed": false,
    "pycharm": {
     "name": "#%%\n"
    }
   }
  }
 ],
 "metadata": {
  "kernelspec": {
   "display_name": "Python 3",
   "language": "python",
   "name": "python3"
  },
  "language_info": {
   "codemirror_mode": {
    "name": "ipython",
    "version": 2
   },
   "file_extension": ".py",
   "mimetype": "text/x-python",
   "name": "python",
   "nbconvert_exporter": "python",
   "pygments_lexer": "ipython2",
   "version": "2.7.6"
  }
 },
 "nbformat": 4,
 "nbformat_minor": 0
}