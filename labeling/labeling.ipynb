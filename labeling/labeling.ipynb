{
 "cells": [
  {
   "cell_type": "code",
   "execution_count": 2,
   "metadata": {
    "pycharm": {
     "name": "#%%\n"
    }
   },
   "outputs": [],
   "source": [
    "import os\n",
    "import pandas as pd"
   ]
  },
  {
   "cell_type": "code",
   "execution_count": 10,
   "outputs": [
    {
     "name": "stdout",
     "output_type": "stream",
     "text": [
      "26\n",
      "<class 'list'>\n"
     ]
    },
    {
     "data": {
      "text/plain": "['images01_handaxe',\n 'images02_bowl',\n 'images03_ritual_bronze_object',\n 'images04_bronze_dagger',\n 'images06_bronze_bowl',\n 'images07_brick_with_landscape',\n 'images08_armor_and_helmat',\n 'images09_golden_crown',\n 'images10_iron_seated_buddha',\n 'images11_ten_story_stone_pagoda',\n 'images11_ten_story_stone_pagoda02',\n 'images11_ten_story_stone_pagoda03',\n 'images12_buddhist_bell',\n 'images13_josen_metal_type_for_hangeul',\n 'images14_dardongnyeojido',\n 'images16_toal_seal_for_imperial_edicts',\n 'images19_stele_ofr_national_preceptor_nanggong',\n 'images20_skecth_drawing',\n 'images22_buddhist_hanging_scroll',\n 'images23_clothing_box',\n 'images24_bottle_with_lotus_scroll',\n 'images25_bronze_helmat',\n 'images26_wooden_figure',\n 'images27_gourd_shaped_bottle',\n 'images28_maitreya_bodhisattva',\n 'images29-avalokiteshvara_bodhisattva']"
     },
     "execution_count": 10,
     "metadata": {},
     "output_type": "execute_result"
    }
   ],
   "source": [
    "videoPath = 'C:\\\\Yolo_mark\\\\x64\\\\Release\\\\data\\\\img'\n",
    "file_list = os.listdir(videoPath)\n",
    "print(len(file_list))\n",
    "print(type(file_list))\n",
    "file_list"
   ],
   "metadata": {
    "collapsed": false,
    "pycharm": {
     "name": "#%%\n"
    }
   }
  },
  {
   "cell_type": "code",
   "execution_count": 13,
   "outputs": [
    {
     "name": "stdout",
     "output_type": "stream",
     "text": [
      "['01_handaxe', '02_bowl', '03_ritual_bronze_object', '04_bronze_dagger', '06_bronze_bowl', '07_brick_with_landscape', '08_armor_and_helmat', '09_golden_crown', '10_iron_seated_buddha', '11_ten_story_stone_pagoda', '11_ten_story_stone_pagoda02', '11_ten_story_stone_pagoda03', '12_buddhist_bell', '13_josen_metal_type_for_hangeul', '14_dardongnyeojido', '16_toal_seal_for_imperial_edicts', '19_stele_ofr_national_preceptor_nanggong', '20_skecth_drawing', '22_buddhist_hanging_scroll', '23_clothing_box', '24_bottle_with_lotus_scroll', '25_bronze_helmat', '26_wooden_figure', '27_gourd_shaped_bottle', '28_maitreya_bodhisattva', '29-avalokiteshvara_bodhisattva']\n"
     ]
    }
   ],
   "source": [
    "files=[]\n",
    "for file in file_list:\n",
    "    files.append(file[6:])\n",
    "print(files)\n",
    "\n"
   ],
   "metadata": {
    "collapsed": false,
    "pycharm": {
     "name": "#%%\n"
    }
   }
  },
  {
   "cell_type": "code",
   "execution_count": null,
   "outputs": [],
   "source": [
    "def changeName(videoPath):\n",
    "    i=1\n",
    "    for filename ,file in  zip (os.listdir(videoPath),file_list ):\n",
    "        print(videoPath+filename, '=>', file+'.mp4')\n",
    "        os.rename(videoPath+filename, file+'.mp4')\n",
    "        i += 1\n"
   ],
   "metadata": {
    "collapsed": false,
    "pycharm": {
     "name": "#%%\n"
    }
   }
  },
  {
   "cell_type": "code",
   "execution_count": 34,
   "outputs": [
    {
     "data": {
      "text/plain": "    Unnamed: 0  정제 후 번호               한글 이름  \\\n0            0        1                주먹도끼   \n1            1        2             빗살무늬 토기   \n2            2        3             농경문 청동기   \n3            3        4               칼과 칼집   \n4            4        5                청동거울   \n5            5        6             산수무늬 벽돌   \n6            6        7             투구와 판갑옷   \n7            7        8            금관과 금허리띠   \n8            8        9                  철불   \n9            9       10          경천사 심층석탑_1   \n10          10       11          경천사 심층석탑_2   \n11          11       12          경천사 심층석탑_3   \n12          12       13            청년 4년 동종   \n13          13       14               한글 활자   \n14          14       15               대동여지도   \n15          15       16         대한제국 황제의 인장   \n16          16       17         태자사 남공대사 비석   \n17          17       18     단원 풍속도첩 ,춤추는 아이   \n18          18       19                  쾌불   \n19          19       20  나전 칠 모란 연꽃넝쿨무늬 옷상자   \n20          20       21      분청사기 연꽃넝쿨 무늬 병   \n21          21       22                청동투구   \n22          22       23                 동자상   \n23          23       24     백자 꽃무늬 조롱박 모양 병   \n24          24       25              감산사 불상   \n25          25       26            금동관음보살좌상   \n26          26       27    구황동 삼층석탑 출토 아미타불   \n27          27       28           물가풍경무늬 정병   \n28          28       29          청자 칠보무늬 향로   \n29          29       30          청자 어룡모양 주자   \n30          30       31     분청사기 구름,용무늬 항아리   \n31          31       32   백자 매화,새,대나무무늬 항아리   \n32          32       33             백자 달항아리   \n33          33       34                 여인상   \n34          34       35            석조 보살 입상   \n35          35       36     백자 청화 꽃,과일무늬 주자   \n36          36       37          겐지모노가타리 화첩   \n\n                                                영어 이름  \\\n0                                             Handaxe   \n1                                Comb-pattern Pottery   \n2            Ritual Bronze Object with Farming Scenes   \n3                Bronze Dagger and Lacquered Scabbard   \n4           Bronze Bowl with Inscription of “Hou(壺杅)”   \n5                          Tile with Landscape Design   \n6                              Helmet and Plate Armor   \n7                            Gold Crown and Gold Belt   \n8                                         Iron Buddha   \n9   Ten-story Stone Pagoda from Gyeongcheonsa Temp...   \n10  Ten-story Stone Pagoda from Gyeongcheonsa Temp...   \n11  Ten-story Stone Pagoda from Gyeongcheonsa Temp...   \n12                                        Iron Buddha   \n13                      Joseon Metal Type for Hangeul   \n14          Daedongnyeojido: Territorial Map of Korea   \n15                     Royal Seal for Imperial Edicts   \n16  Stele for the Buddhist Monk Nanggongdaesa at T...   \n17         A Dancing Boy from Album of Genre Painting   \n18                            Buddhist Hanging Scroll   \n19  Lacquered Clothing Box Inlaid with Mother-of-p...   \n20  Buncheong Ware Bottle with Lotus and Scrolls D...   \n21                                      Bronze Helmet   \n22                                       Buddhist Boy   \n23          White Porcelain Bottle with Orchid Design   \n24  Maitreya and Amitabha from Gamsansa Temple Sit...   \n25      Gilt-bronze Seated Avalokitesvara Bodhisattva   \n26  Buddha from the Pagoda at Guhwang-dong Temple ...   \n27                      Kundika with Landscape Design   \n28  Incense Burner, Celadon with Openwork Cloisonn...   \n29                        Dragon-shaped Ewer, Celadon   \n30    Buncheong Ware Jar with Cloud and Dragon Design   \n31  Blue-and-white Porcelain Jar with Plum, Bird a...   \n32                                White Porcelain Jar   \n33                                               lady   \n34                                        bodhisattva   \n35   Blue-and-white Ewer with Fruit and Floral Design   \n36             Illustrated Album of The Tale of Genji   \n\n                                           원본 라벨  \n0                                 01_handaxe.mp4  \n1                                    02_bowl.mp4  \n2                    03_ritual_bronze_object.mp4  \n3                           04_bronze_dagger.mp4  \n4                             06_bronze_bowl.mp4  \n5                    07_brick_with_landscape.mp4  \n6                        08_armor_and_helmat.mp4  \n7                            09_golden_crown.mp4  \n8                      10_iron_seated_buddha.mp4  \n9                  11_ten_story_stone_pagoda.mp4  \n10               11_ten_story_stone_pagoda02.mp4  \n11               11_ten_story_stone_pagoda03.mp4  \n12                          12_buddhist_bell.mp4  \n13           13_josen_metal_type_for_hangeul.mp4  \n14                        14_dardongnyeojido.mp4  \n15          16_toal_seal_for_imperial_edicts.mp4  \n16  19_stele_ofr_national_preceptor_nanggong.mp4  \n17                         20_skecth_drawing.mp4  \n18                22_buddhist_hanging_scroll.mp4  \n19                           23_clothing_box.mp4  \n20               24_bottle_with_lotus_scroll.mp4  \n21                          25_bronze_helmat.mp4  \n22                          26_wooden_figure.mp4  \n23                    27_gourd_shaped_bottle.mp4  \n24                   28_maitreya_bodhisattva.mp4  \n25            29-avalokiteshvara_bodhisattva.mp4  \n26             30_buddha_and_amitabha_buddha.mp4  \n27                    31_kundika_with_willow.mp4  \n28                         32_incence_burmer.mp4  \n29                     33_dragon_shaped_ewer.mp4  \n30                        34_jar_with_dragon.mp4  \n31                          35_jar_with_plum.mp4  \n32                               36_moon_jar.mp4  \n33                                   37_lady.mp4  \n34                            38_bodhisattva.mp4  \n35                       39_ewer_with_floral.mp4  \n36                          40_tale_of_genji.mp4  ",
      "text/html": "<div>\n<style scoped>\n    .dataframe tbody tr th:only-of-type {\n        vertical-align: middle;\n    }\n\n    .dataframe tbody tr th {\n        vertical-align: top;\n    }\n\n    .dataframe thead th {\n        text-align: right;\n    }\n</style>\n<table border=\"1\" class=\"dataframe\">\n  <thead>\n    <tr style=\"text-align: right;\">\n      <th></th>\n      <th>Unnamed: 0</th>\n      <th>정제 후 번호</th>\n      <th>한글 이름</th>\n      <th>영어 이름</th>\n      <th>원본 라벨</th>\n    </tr>\n  </thead>\n  <tbody>\n    <tr>\n      <th>0</th>\n      <td>0</td>\n      <td>1</td>\n      <td>주먹도끼</td>\n      <td>Handaxe</td>\n      <td>01_handaxe.mp4</td>\n    </tr>\n    <tr>\n      <th>1</th>\n      <td>1</td>\n      <td>2</td>\n      <td>빗살무늬 토기</td>\n      <td>Comb-pattern Pottery</td>\n      <td>02_bowl.mp4</td>\n    </tr>\n    <tr>\n      <th>2</th>\n      <td>2</td>\n      <td>3</td>\n      <td>농경문 청동기</td>\n      <td>Ritual Bronze Object with Farming Scenes</td>\n      <td>03_ritual_bronze_object.mp4</td>\n    </tr>\n    <tr>\n      <th>3</th>\n      <td>3</td>\n      <td>4</td>\n      <td>칼과 칼집</td>\n      <td>Bronze Dagger and Lacquered Scabbard</td>\n      <td>04_bronze_dagger.mp4</td>\n    </tr>\n    <tr>\n      <th>4</th>\n      <td>4</td>\n      <td>5</td>\n      <td>청동거울</td>\n      <td>Bronze Bowl with Inscription of “Hou(壺杅)”</td>\n      <td>06_bronze_bowl.mp4</td>\n    </tr>\n    <tr>\n      <th>5</th>\n      <td>5</td>\n      <td>6</td>\n      <td>산수무늬 벽돌</td>\n      <td>Tile with Landscape Design</td>\n      <td>07_brick_with_landscape.mp4</td>\n    </tr>\n    <tr>\n      <th>6</th>\n      <td>6</td>\n      <td>7</td>\n      <td>투구와 판갑옷</td>\n      <td>Helmet and Plate Armor</td>\n      <td>08_armor_and_helmat.mp4</td>\n    </tr>\n    <tr>\n      <th>7</th>\n      <td>7</td>\n      <td>8</td>\n      <td>금관과 금허리띠</td>\n      <td>Gold Crown and Gold Belt</td>\n      <td>09_golden_crown.mp4</td>\n    </tr>\n    <tr>\n      <th>8</th>\n      <td>8</td>\n      <td>9</td>\n      <td>철불</td>\n      <td>Iron Buddha</td>\n      <td>10_iron_seated_buddha.mp4</td>\n    </tr>\n    <tr>\n      <th>9</th>\n      <td>9</td>\n      <td>10</td>\n      <td>경천사 심층석탑_1</td>\n      <td>Ten-story Stone Pagoda from Gyeongcheonsa Temp...</td>\n      <td>11_ten_story_stone_pagoda.mp4</td>\n    </tr>\n    <tr>\n      <th>10</th>\n      <td>10</td>\n      <td>11</td>\n      <td>경천사 심층석탑_2</td>\n      <td>Ten-story Stone Pagoda from Gyeongcheonsa Temp...</td>\n      <td>11_ten_story_stone_pagoda02.mp4</td>\n    </tr>\n    <tr>\n      <th>11</th>\n      <td>11</td>\n      <td>12</td>\n      <td>경천사 심층석탑_3</td>\n      <td>Ten-story Stone Pagoda from Gyeongcheonsa Temp...</td>\n      <td>11_ten_story_stone_pagoda03.mp4</td>\n    </tr>\n    <tr>\n      <th>12</th>\n      <td>12</td>\n      <td>13</td>\n      <td>청년 4년 동종</td>\n      <td>Iron Buddha</td>\n      <td>12_buddhist_bell.mp4</td>\n    </tr>\n    <tr>\n      <th>13</th>\n      <td>13</td>\n      <td>14</td>\n      <td>한글 활자</td>\n      <td>Joseon Metal Type for Hangeul</td>\n      <td>13_josen_metal_type_for_hangeul.mp4</td>\n    </tr>\n    <tr>\n      <th>14</th>\n      <td>14</td>\n      <td>15</td>\n      <td>대동여지도</td>\n      <td>Daedongnyeojido: Territorial Map of Korea</td>\n      <td>14_dardongnyeojido.mp4</td>\n    </tr>\n    <tr>\n      <th>15</th>\n      <td>15</td>\n      <td>16</td>\n      <td>대한제국 황제의 인장</td>\n      <td>Royal Seal for Imperial Edicts</td>\n      <td>16_toal_seal_for_imperial_edicts.mp4</td>\n    </tr>\n    <tr>\n      <th>16</th>\n      <td>16</td>\n      <td>17</td>\n      <td>태자사 남공대사 비석</td>\n      <td>Stele for the Buddhist Monk Nanggongdaesa at T...</td>\n      <td>19_stele_ofr_national_preceptor_nanggong.mp4</td>\n    </tr>\n    <tr>\n      <th>17</th>\n      <td>17</td>\n      <td>18</td>\n      <td>단원 풍속도첩 ,춤추는 아이</td>\n      <td>A Dancing Boy from Album of Genre Painting</td>\n      <td>20_skecth_drawing.mp4</td>\n    </tr>\n    <tr>\n      <th>18</th>\n      <td>18</td>\n      <td>19</td>\n      <td>쾌불</td>\n      <td>Buddhist Hanging Scroll</td>\n      <td>22_buddhist_hanging_scroll.mp4</td>\n    </tr>\n    <tr>\n      <th>19</th>\n      <td>19</td>\n      <td>20</td>\n      <td>나전 칠 모란 연꽃넝쿨무늬 옷상자</td>\n      <td>Lacquered Clothing Box Inlaid with Mother-of-p...</td>\n      <td>23_clothing_box.mp4</td>\n    </tr>\n    <tr>\n      <th>20</th>\n      <td>20</td>\n      <td>21</td>\n      <td>분청사기 연꽃넝쿨 무늬 병</td>\n      <td>Buncheong Ware Bottle with Lotus and Scrolls D...</td>\n      <td>24_bottle_with_lotus_scroll.mp4</td>\n    </tr>\n    <tr>\n      <th>21</th>\n      <td>21</td>\n      <td>22</td>\n      <td>청동투구</td>\n      <td>Bronze Helmet</td>\n      <td>25_bronze_helmat.mp4</td>\n    </tr>\n    <tr>\n      <th>22</th>\n      <td>22</td>\n      <td>23</td>\n      <td>동자상</td>\n      <td>Buddhist Boy</td>\n      <td>26_wooden_figure.mp4</td>\n    </tr>\n    <tr>\n      <th>23</th>\n      <td>23</td>\n      <td>24</td>\n      <td>백자 꽃무늬 조롱박 모양 병</td>\n      <td>White Porcelain Bottle with Orchid Design</td>\n      <td>27_gourd_shaped_bottle.mp4</td>\n    </tr>\n    <tr>\n      <th>24</th>\n      <td>24</td>\n      <td>25</td>\n      <td>감산사 불상</td>\n      <td>Maitreya and Amitabha from Gamsansa Temple Sit...</td>\n      <td>28_maitreya_bodhisattva.mp4</td>\n    </tr>\n    <tr>\n      <th>25</th>\n      <td>25</td>\n      <td>26</td>\n      <td>금동관음보살좌상</td>\n      <td>Gilt-bronze Seated Avalokitesvara Bodhisattva</td>\n      <td>29-avalokiteshvara_bodhisattva.mp4</td>\n    </tr>\n    <tr>\n      <th>26</th>\n      <td>26</td>\n      <td>27</td>\n      <td>구황동 삼층석탑 출토 아미타불</td>\n      <td>Buddha from the Pagoda at Guhwang-dong Temple ...</td>\n      <td>30_buddha_and_amitabha_buddha.mp4</td>\n    </tr>\n    <tr>\n      <th>27</th>\n      <td>27</td>\n      <td>28</td>\n      <td>물가풍경무늬 정병</td>\n      <td>Kundika with Landscape Design</td>\n      <td>31_kundika_with_willow.mp4</td>\n    </tr>\n    <tr>\n      <th>28</th>\n      <td>28</td>\n      <td>29</td>\n      <td>청자 칠보무늬 향로</td>\n      <td>Incense Burner, Celadon with Openwork Cloisonn...</td>\n      <td>32_incence_burmer.mp4</td>\n    </tr>\n    <tr>\n      <th>29</th>\n      <td>29</td>\n      <td>30</td>\n      <td>청자 어룡모양 주자</td>\n      <td>Dragon-shaped Ewer, Celadon</td>\n      <td>33_dragon_shaped_ewer.mp4</td>\n    </tr>\n    <tr>\n      <th>30</th>\n      <td>30</td>\n      <td>31</td>\n      <td>분청사기 구름,용무늬 항아리</td>\n      <td>Buncheong Ware Jar with Cloud and Dragon Design</td>\n      <td>34_jar_with_dragon.mp4</td>\n    </tr>\n    <tr>\n      <th>31</th>\n      <td>31</td>\n      <td>32</td>\n      <td>백자 매화,새,대나무무늬 항아리</td>\n      <td>Blue-and-white Porcelain Jar with Plum, Bird a...</td>\n      <td>35_jar_with_plum.mp4</td>\n    </tr>\n    <tr>\n      <th>32</th>\n      <td>32</td>\n      <td>33</td>\n      <td>백자 달항아리</td>\n      <td>White Porcelain Jar</td>\n      <td>36_moon_jar.mp4</td>\n    </tr>\n    <tr>\n      <th>33</th>\n      <td>33</td>\n      <td>34</td>\n      <td>여인상</td>\n      <td>lady</td>\n      <td>37_lady.mp4</td>\n    </tr>\n    <tr>\n      <th>34</th>\n      <td>34</td>\n      <td>35</td>\n      <td>석조 보살 입상</td>\n      <td>bodhisattva</td>\n      <td>38_bodhisattva.mp4</td>\n    </tr>\n    <tr>\n      <th>35</th>\n      <td>35</td>\n      <td>36</td>\n      <td>백자 청화 꽃,과일무늬 주자</td>\n      <td>Blue-and-white Ewer with Fruit and Floral Design</td>\n      <td>39_ewer_with_floral.mp4</td>\n    </tr>\n    <tr>\n      <th>36</th>\n      <td>36</td>\n      <td>37</td>\n      <td>겐지모노가타리 화첩</td>\n      <td>Illustrated Album of The Tale of Genji</td>\n      <td>40_tale_of_genji.mp4</td>\n    </tr>\n  </tbody>\n</table>\n</div>"
     },
     "execution_count": 34,
     "metadata": {},
     "output_type": "execute_result"
    }
   ],
   "source": [
    "df = pd.read_csv('C:\\\\Watching_You\\\\csv\\\\final_label.csv')\n",
    "df"
   ],
   "metadata": {
    "collapsed": false,
    "pycharm": {
     "name": "#%%\n"
    }
   }
  },
  {
   "cell_type": "code",
   "execution_count": 30,
   "outputs": [],
   "source": [
    "df['원본 라벨'] = file_list\n",
    "df.to_csv('C:\\\\Watching_You\\\\csv\\\\final_label.csv',index ='false')\n"
   ],
   "metadata": {
    "collapsed": false,
    "pycharm": {
     "name": "#%%\n"
    }
   }
  },
  {
   "cell_type": "code",
   "execution_count": 40,
   "metadata": {
    "collapsed": true
   },
   "outputs": [
    {
     "ename": "NameError",
     "evalue": "name 'pd' is not defined",
     "output_type": "error",
     "traceback": [
      "\u001B[1;31m---------------------------------------------------------------------------\u001B[0m",
      "\u001B[1;31mNameError\u001B[0m                                 Traceback (most recent call last)",
      "Input \u001B[1;32mIn [40]\u001B[0m, in \u001B[0;36m<cell line: 10>\u001B[1;34m()\u001B[0m\n\u001B[0;32m      1\u001B[0m \u001B[38;5;66;03m# num_list =[]\u001B[39;00m\n\u001B[0;32m      2\u001B[0m \u001B[38;5;66;03m# df = pd.DataFrame()\u001B[39;00m\n\u001B[0;32m      3\u001B[0m \u001B[38;5;66;03m# for num in range (1, len(file_list)+1):\u001B[39;00m\n\u001B[1;32m   (...)\u001B[0m\n\u001B[0;32m      8\u001B[0m \u001B[38;5;66;03m# df.set_index('num')\u001B[39;00m\n\u001B[0;32m      9\u001B[0m \u001B[38;5;66;03m# df.to_csv('C:\\\\Watching_You\\\\title.csv',encoding='utf-8-sig')\u001B[39;00m\n\u001B[1;32m---> 10\u001B[0m df \u001B[38;5;241m=\u001B[39m \u001B[43mpd\u001B[49m\u001B[38;5;241m.\u001B[39mread_csv(\u001B[38;5;124m'\u001B[39m\u001B[38;5;124mC:\u001B[39m\u001B[38;5;130;01m\\\\\u001B[39;00m\u001B[38;5;124mWatching_You\u001B[39m\u001B[38;5;130;01m\\\\\u001B[39;00m\u001B[38;5;124mtitle.csv\u001B[39m\u001B[38;5;124m'\u001B[39m)\n\u001B[0;32m     12\u001B[0m file_list \u001B[38;5;241m=\u001B[39m df[\u001B[38;5;124m'\u001B[39m\u001B[38;5;124menglishname\u001B[39m\u001B[38;5;124m'\u001B[39m]\u001B[38;5;241m.\u001B[39mvalues\u001B[38;5;241m.\u001B[39mtolist()\n\u001B[0;32m     14\u001B[0m \u001B[38;5;28;01mdef\u001B[39;00m \u001B[38;5;21mchangeName\u001B[39m(videoPath):\n",
      "\u001B[1;31mNameError\u001B[0m: name 'pd' is not defined"
     ]
    }
   ],
   "source": [
    "file_list = df['englishname'].values.tolist()\n",
    "\n",
    "def changeName(videoPath):\n",
    "    i=1\n",
    "    for filename ,file in  zip (os.listdir(videoPath),file_list ):\n",
    "        print(videoPath+filename, '=>', file+'.mp4')\n",
    "        os.rename(videoPath+filename, file+'.mp4')\n",
    "        i += 1\n",
    "\n",
    "changeName('C:\\\\Watching_You\\\\VideoFile\\\\')\n"
   ]
  },
  {
   "cell_type": "code",
   "execution_count": null,
   "metadata": {
    "pycharm": {
     "name": "#%%\n"
    }
   },
   "outputs": [],
   "source": []
  }
 ],
 "metadata": {
  "kernelspec": {
   "display_name": "Python 3 (ipykernel)",
   "language": "python",
   "name": "python3"
  },
  "language_info": {
   "codemirror_mode": {
    "name": "ipython",
    "version": 3
   },
   "file_extension": ".py",
   "mimetype": "text/x-python",
   "name": "python",
   "nbconvert_exporter": "python",
   "pygments_lexer": "ipython3",
   "version": "3.10.3"
  }
 },
 "nbformat": 4,
 "nbformat_minor": 1
}